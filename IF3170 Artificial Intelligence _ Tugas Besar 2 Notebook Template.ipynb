{
 "cells": [
  {
   "cell_type": "markdown",
   "metadata": {
    "id": "uR1JW69eLfG_"
   },
   "source": [
    "# IF3170 Artificial Intelligence | Tugas Besar 2\n",
    "\n",
    "This notebook serves as a template for the assignment. Please create a copy of this notebook to complete your work. You can add more code blocks, markdown blocks, or new sections if needed.\n"
   ]
  },
  {
   "cell_type": "markdown",
   "metadata": {
    "id": "ucbaI5rBLtjJ"
   },
   "source": [
    "Group Number: xx\n",
    "\n",
    "Group Members:\n",
    "- Name (NIM)\n",
    "- Name (NIM)\n",
    "- ..."
   ]
  },
  {
   "cell_type": "markdown",
   "metadata": {
    "id": "GwzsfETHLfHA"
   },
   "source": [
    "## Import Libraries"
   ]
  },
  {
   "cell_type": "code",
   "execution_count": 49,
   "metadata": {
    "id": "jZJU5W_4LfHB"
   },
   "outputs": [],
   "source": [
    "import pandas as pd\n",
    "import numpy as np\n",
    "from sklearn.model_selection import train_test_split\n",
    "from sklearn.pipeline import Pipeline\n",
    "from sklearn.preprocessing import StandardScaler\n",
    "from sklearn.compose import ColumnTransformer\n",
    "from sklearn.preprocessing import OneHotEncoder\n",
    "from sklearn.impute import SimpleImputer\n",
    "from sklearn.base import BaseEstimator, TransformerMixin\n",
    "import matplotlib.pyplot as plt\n",
    "\n",
    "# Import other libraries if needed"
   ]
  },
  {
   "cell_type": "markdown",
   "metadata": {
    "id": "OKbjLIdYLfHC"
   },
   "source": [
    "## Import Dataset"
   ]
  },
  {
   "cell_type": "code",
   "execution_count": 50,
   "metadata": {
    "id": "-IWFJ-gdLfHD"
   },
   "outputs": [],
   "source": [
    "basic_features_train = pd.read_csv('dataset/train/basic_features_train.csv')\n",
    "content_features_train = pd.read_csv('dataset/train/content_features_train.csv')\n",
    "additional_features_train = pd.read_csv('dataset/train/additional_features_train.csv')\n",
    "labels_train = pd.read_csv('dataset/train/labels_train.csv')\n",
    "time_features_train = pd.read_csv('dataset/train/time_features_train.csv')\n",
    "flow_features_train = pd.read_csv('dataset/train/flow_features_train.csv')\n",
    "\n",
    "basic_features_test = pd.read_csv('dataset/test/basic_features_test.csv')\n",
    "content_features_test = pd.read_csv('dataset/test/content_features_test.csv')\n",
    "additional_features_test = pd.read_csv('dataset/test/additional_features_test.csv')\n",
    "time_features_test = pd.read_csv('dataset/test/time_features_test.csv')\n",
    "flow_features_test = pd.read_csv('dataset/test/flow_features_test.csv')\n",
    "\n",
    "metadata = pd.read_csv('dataset/train/UNSW-NB15_features-modified.csv')"
   ]
  },
  {
   "cell_type": "code",
   "execution_count": 51,
   "metadata": {},
   "outputs": [
    {
     "name": "stdout",
     "output_type": "stream",
     "text": [
      "Number of matching rows: 175341\n",
      "Rows of table:  175341\n"
     ]
    }
   ],
   "source": [
    "ids = np.array([\n",
    "    basic_features_train['id'],\n",
    "    additional_features_train['id'],\n",
    "    additional_features_train['id'],\n",
    "    labels_train['id'],\n",
    "    time_features_train['id'],\n",
    "    flow_features_train['id']\n",
    "])\n",
    "\n",
    "matching_rows = (ids[0] == ids).all(axis=0)\n",
    "print(\"Number of matching rows:\", matching_rows.sum())\n",
    "print(\"Rows of table: \", len(basic_features_train))"
   ]
  },
  {
   "cell_type": "code",
   "execution_count": 52,
   "metadata": {},
   "outputs": [
    {
     "name": "stdout",
     "output_type": "stream",
     "text": [
      "Number of matching rows: 20583\n",
      "Rows of table:  20583\n"
     ]
    }
   ],
   "source": [
    "ids = np.array([\n",
    "    basic_features_test['id'],\n",
    "    additional_features_test['id'],\n",
    "    additional_features_test['id'],\n",
    "    time_features_test['id'],\n",
    "    flow_features_test['id']\n",
    "])\n",
    "\n",
    "matching_rows = (ids[0] == ids).all(axis=0)\n",
    "print(\"Number of matching rows:\", matching_rows.sum())\n",
    "print(\"Rows of table: \", len(basic_features_test))"
   ]
  },
  {
   "cell_type": "code",
   "execution_count": null,
   "metadata": {},
   "outputs": [],
   "source": [
    "df_train = pd.merge(basic_features_train, content_features_train, on='id')\n",
    "df_train = pd.merge(df_train, additional_features_train, on='id')\n",
    "df_train = pd.merge(df_train, labels_train, on='id')\n",
    "df_train = pd.merge(df_train, time_features_train, on='id')\n",
    "df_train = pd.merge(df_train, flow_features_train, on='id')\n",
    "\n",
    "df_test = pd.merge(basic_features_test, content_features_test, on='id')\n",
    "df_test = pd.merge(df_test, additional_features_test, on='id')\n",
    "df_test = pd.merge(df_test, time_features_test, on='id')\n",
    "df_test = pd.merge(df_test, flow_features_test, on='id')\n",
    "df_train.drop('label',axis=1, inplace=True)\n",
    "df_test.drop('label',axis=1, inplace=True)"
   ]
  },
  {
   "cell_type": "code",
   "execution_count": null,
   "metadata": {},
   "outputs": [],
   "source": [
    "# from pandas.api.types import is_datetime64_any_dtype as is_datetime\n",
    "# from pandas.api.types import is_categorical_dtype\n",
    "# def reduce_mem_usage(df, use_float16=False):\n",
    "#     \"\"\" iterate through all the columns of a dataframe and modify the data type\n",
    "#         to reduce memory usage.        \n",
    "#     \"\"\"\n",
    "#     start_mem = df.memory_usage().sum() / 1024**2\n",
    "#     print('Memory usage of dataframe is {:.2f} MB'.format(start_mem))\n",
    "    \n",
    "#     for col in df.columns:\n",
    "#         if is_datetime(df[col]) or is_categorical_dtype(df[col]):\n",
    "#             # skip datetime type or categorical type\n",
    "#             continue\n",
    "#         col_type = df[col].dtype\n",
    "        \n",
    "#         if col_type != object:\n",
    "#             c_min = df[col].min()\n",
    "#             c_max = df[col].max()\n",
    "#             if str(col_type)[:3] == 'int':\n",
    "#                 if c_min > np.iinfo(np.int8).min and c_max < np.iinfo(np.int8).max:\n",
    "#                     df[col] = df[col].astype(np.int8)\n",
    "#                 elif c_min > np.iinfo(np.int16).min and c_max < np.iinfo(np.int16).max:\n",
    "#                     df[col] = df[col].astype(np.int16)\n",
    "#                 elif c_min > np.iinfo(np.int32).min and c_max < np.iinfo(np.int32).max:\n",
    "#                     df[col] = df[col].astype(np.int32)\n",
    "#                 elif c_min > np.iinfo(np.int64).min and c_max < np.iinfo(np.int64).max:\n",
    "#                     df[col] = df[col].astype(np.int64)  \n",
    "#             else:\n",
    "#                 if use_float16 and c_min > np.finfo(np.float16).min and c_max < np.finfo(np.float16).max:\n",
    "#                     df[col] = df[col].astype(np.float16)\n",
    "#                 elif c_min > np.finfo(np.float32).min and c_max < np.finfo(np.float32).max:\n",
    "#                     df[col] = df[col].astype(np.float32)\n",
    "#                 else:\n",
    "#                     df[col] = df[col].astype(np.float64)\n",
    "#         else:\n",
    "#             df[col] = df[col].astype('object')\n",
    "\n",
    "#     end_mem = df.memory_usage().sum() / 1024**2\n",
    "#     print('Memory usage after optimization is: {:.2f} MB'.format(end_mem))\n",
    "#     print('Decreased by {:.1f}%'.format(100 * (start_mem - end_mem) / start_mem))\n",
    "    \n",
    "#     return df"
   ]
  },
  {
   "cell_type": "markdown",
   "metadata": {
    "id": "YdSor5sdIYGs"
   },
   "source": [
    "# Exploratory Data Analysis (Optional)\n",
    "\n",
    "Exploratory Data Analysis (EDA) is a crucial step in the data analysis process that involves examining and visualizing data sets to uncover patterns, trends, anomalies, and insights. It is the first step before applying more advanced statistical and machine learning techniques. EDA helps you to gain a deep understanding of the data you are working with, allowing you to make informed decisions and formulate hypotheses for further analysis."
   ]
  },
  {
   "cell_type": "code",
   "execution_count": 54,
   "metadata": {
    "id": "bGiGPVYNIoWk"
   },
   "outputs": [],
   "source": [
    "# Write your code here"
   ]
  },
  {
   "cell_type": "markdown",
   "metadata": {
    "id": "gvx-gT3bLfHM"
   },
   "source": [
    "# 1. Split Training Set and Validation Set\n",
    "\n",
    "Splitting the training and validation set works as an early diagnostic towards the performance of the model we train. This is done before the preprocessing steps to **avoid data leakage inbetween the sets**. If you want to use k-fold cross-validation, split the data later and do the cleaning and preprocessing separately for each split.\n",
    "\n",
    "Note: For training, you should use the data contained in the `train` folder given by the TA. The `test` data is only used for kaggle submission."
   ]
  },
  {
   "cell_type": "code",
   "execution_count": null,
   "metadata": {},
   "outputs": [],
   "source": [
    "target_columns = ['attack_cat']\n",
    "cat_columns = metadata['Name'].loc[(metadata['Type '] == 'nominal') | (metadata['Type '] == 'binary') | (metadata['Type '] == 'Binary')].values\n",
    "indices_to_remove = [i for i, val in enumerate(cat_columns) if val in target_columns]\n",
    "cat_columns = np.delete(cat_columns, indices_to_remove)\n",
    "num_columns = [x for x in df_train.columns if x not in cat_columns and x not in target_columns]"
   ]
  },
  {
   "cell_type": "code",
   "execution_count": 56,
   "metadata": {},
   "outputs": [],
   "source": [
    "X_train = df_train.drop(target_columns, axis=1)\n",
    "y_train = df_train[target_columns]"
   ]
  },
  {
   "cell_type": "code",
   "execution_count": 57,
   "metadata": {
    "id": "4yWCUFFBLfHM"
   },
   "outputs": [],
   "source": [
    "X_train, X_val, y_train, y_val = train_test_split(X_train, y_train, test_size=0.2, random_state=42)"
   ]
  },
  {
   "cell_type": "markdown",
   "metadata": {
    "id": "IC14lmo_LfHN"
   },
   "source": [
    "# 2. Data Cleaning and Preprocessing\n",
    "\n",
    "This step is the first thing to be done once a Data Scientist have grasped a general knowledge of the data. Raw data is **seldom ready for training**, therefore steps need to be taken to clean and format the data for the Machine Learning model to interpret.\n",
    "\n",
    "By performing data cleaning and preprocessing, you ensure that your dataset is ready for model training, leading to more accurate and reliable machine learning results. These steps are essential for transforming raw data into a format that machine learning algorithms can effectively learn from and make predictions.\n",
    "\n",
    "We will give some common methods for you to try, but you only have to **at least implement one method for each process**. For each step that you will do, **please explain the reason why did you do that process. Write it in a markdown cell under the code cell you wrote.**"
   ]
  },
  {
   "cell_type": "markdown",
   "metadata": {
    "id": "p95_A8hSLfHY"
   },
   "source": [
    "## A. Data Cleaning\n",
    "\n",
    "**Data cleaning** is the crucial first step in preparing your dataset for machine learning. Raw data collected from various sources is often messy and may contain errors, missing values, and inconsistencies. Data cleaning involves the following steps:\n",
    "\n",
    "1. **Handling Missing Data:** Identify and address missing values in the dataset. This can include imputing missing values, removing rows or columns with excessive missing data, or using more advanced techniques like interpolation.\n",
    "\n",
    "2. **Dealing with Outliers:** Identify and handle outliers, which are data points significantly different from the rest of the dataset. Outliers can be removed or transformed to improve model performance.\n",
    "\n",
    "3. **Data Validation:** Check for data integrity and consistency. Ensure that data types are correct, categorical variables have consistent labels, and numerical values fall within expected ranges.\n",
    "\n",
    "4. **Removing Duplicates:** Identify and remove duplicate rows, as they can skew the model's training process and evaluation metrics.\n",
    "\n",
    "5. **Feature Engineering**: Create new features or modify existing ones to extract relevant information. This step can involve scaling, normalizing, or encoding features for better model interpretability."
   ]
  },
  {
   "cell_type": "markdown",
   "metadata": {
    "id": "_wruGao9LfHZ"
   },
   "source": [
    "### I. Handling Missing Data\n",
    "\n",
    "Missing data can adversely affect the performance and accuracy of machine learning models. There are several strategies to handle missing data in machine learning:\n",
    "\n",
    "1. **Data Imputation:**\n",
    "\n",
    "    a. **Mean, Median, or Mode Imputation:** For numerical features, you can replace missing values with the mean, median, or mode of the non-missing values in the same feature. This method is simple and often effective when data is missing at random.\n",
    "\n",
    "    b. **Constant Value Imputation:** You can replace missing values with a predefined constant value (e.g., 0) if it makes sense for your dataset and problem.\n",
    "\n",
    "    c. **Imputation Using Predictive Models:** More advanced techniques involve using predictive models to estimate missing values. For example, you can train a regression model to predict missing numerical values or a classification model to predict missing categorical values.\n",
    "\n",
    "2. **Deletion of Missing Data:**\n",
    "\n",
    "    a. **Listwise Deletion:** In cases where the amount of missing data is relatively small, you can simply remove rows with missing values from your dataset. However, this approach can lead to a loss of valuable information.\n",
    "\n",
    "    b. **Column (Feature) Deletion:** If a feature has a large number of missing values and is not critical for your analysis, you can consider removing that feature altogether.\n",
    "\n",
    "3. **Domain-Specific Strategies:**\n",
    "\n",
    "    a. **Domain Knowledge:** In some cases, domain knowledge can guide the imputation process. For example, if you know that missing values are related to a specific condition, you can impute them accordingly.\n",
    "\n",
    "4. **Imputation Libraries:**\n",
    "\n",
    "    a. **Scikit-Learn:** Scikit-Learn provides a `SimpleImputer` class that can handle basic imputation strategies like mean, median, and mode imputation.\n",
    "\n",
    "    b. **Fancyimpute:** Fancyimpute is a Python library that offers more advanced imputation techniques, including matrix factorization, k-nearest neighbors, and deep learning-based methods.\n",
    "\n",
    "The choice of imputation method should be guided by the nature of your data, the amount of missing data, the problem you are trying to solve, and the assumptions you are willing to make."
   ]
  },
  {
   "cell_type": "code",
   "execution_count": 58,
   "metadata": {
    "id": "ucZNfCkiLfHZ"
   },
   "outputs": [
    {
     "data": {
      "text/plain": [
       "87.81225048477245"
      ]
     },
     "execution_count": 58,
     "metadata": {},
     "output_type": "execute_result"
    }
   ],
   "source": [
    "len(X_train[X_train.isna().any(axis=1)]) * 100 /len(X_train)"
   ]
  },
  {
   "cell_type": "code",
   "execution_count": 59,
   "metadata": {},
   "outputs": [
    {
     "name": "stdout",
     "output_type": "stream",
     "text": [
      "Column dur - 4.96% missing values\n",
      "Column sbytes - 4.87% missing values\n",
      "Column dbytes - 5.04% missing values\n",
      "Column sttl - 5.01% missing values\n",
      "Column dttl - 4.95% missing values\n",
      "Column sloss - 4.99% missing values\n",
      "Column dloss - 5.14% missing values\n",
      "Column sload - 4.99% missing values\n",
      "Column dload - 5.06% missing values\n",
      "Column spkts - 4.96% missing values\n",
      "Column dpkts - 4.93% missing values\n",
      "Column id - 0.00% missing values\n",
      "Column swin - 4.97% missing values\n",
      "Column dwin - 4.99% missing values\n",
      "Column stcpb - 4.95% missing values\n",
      "Column dtcpb - 5.04% missing values\n",
      "Column smean - 5.00% missing values\n",
      "Column dmean - 5.05% missing values\n",
      "Column trans_depth - 4.99% missing values\n",
      "Column response_body_len - 4.99% missing values\n",
      "Column ct_state_ttl - 4.99% missing values\n",
      "Column ct_flw_http_mthd - 4.95% missing values\n",
      "Column ct_ftp_cmd - 5.03% missing values\n",
      "Column ct_srv_src - 5.06% missing values\n",
      "Column ct_srv_dst - 5.00% missing values\n",
      "Column ct_dst_ltm - 4.99% missing values\n",
      "Column ct_src_ltm - 5.01% missing values\n",
      "Column ct_src_dport_ltm - 5.02% missing values\n",
      "Column ct_dst_sport_ltm - 5.05% missing values\n",
      "Column ct_dst_src_ltm - 5.05% missing values\n",
      "Column sjit - 5.00% missing values\n",
      "Column djit - 5.07% missing values\n",
      "Column sinpkt - 4.96% missing values\n",
      "Column dinpkt - 4.99% missing values\n",
      "Column tcprtt - 5.06% missing values\n",
      "Column synack - 4.95% missing values\n",
      "Column ackdat - 4.91% missing values\n"
     ]
    }
   ],
   "source": [
    "for column in num_columns:\n",
    "    missing_percentage = X_train[column].isna().sum() / len(X_train) * 100\n",
    "    print(f\"Column {column} - {missing_percentage:.2f}% missing values\")"
   ]
  },
  {
   "cell_type": "code",
   "execution_count": 60,
   "metadata": {},
   "outputs": [
    {
     "name": "stdout",
     "output_type": "stream",
     "text": [
      "Column proto - 5.01% missing values\n",
      "Column state - 5.01% missing values\n",
      "Column service - 5.02% missing values\n",
      "Column is_sm_ips_ports - 5.01% missing values\n",
      "Column is_ftp_login - 4.93% missing values\n"
     ]
    }
   ],
   "source": [
    "for column in cat_columns:\n",
    "    missing_percentage = X_train[column].isna().sum() / len(X_train) * 100\n",
    "    print(f\"Column {column} - {missing_percentage:.2f}% missing values\")"
   ]
  },
  {
   "cell_type": "code",
   "execution_count": 61,
   "metadata": {},
   "outputs": [
    {
     "name": "stdout",
     "output_type": "stream",
     "text": [
      "Skewness of each column:\n",
      "dur : 7.497794353051246\n",
      "sbytes : 45.493175504235715\n",
      "dbytes : 39.85527608468941\n",
      "sttl : -0.6777894196072888\n",
      "dttl : 0.8955745716734826\n",
      "sloss : 45.58143479791684\n",
      "dloss : 39.57933714939367\n",
      "sload : 8.684335723764137\n",
      "dload : 4.688722914746368\n",
      "spkts : 40.68575064722666\n",
      "dpkts : 37.33311677933072\n",
      "id : 0.0\n",
      "swin : 0.17819839867086198\n",
      "dwin : 0.19773116268311977\n",
      "stcpb : 1.080996246968916\n",
      "dtcpb : 1.0806566235450097\n",
      "smean : 3.7218376431267974\n",
      "dmean : 2.8268427885338143\n",
      "trans_depth : 164.97836392232804\n",
      "response_body_len : 76.23126118929538\n",
      "ct_state_ttl : 0.9298838926416965\n",
      "ct_flw_http_mthd : 23.269417537178676\n",
      "ct_ftp_cmd : 9.806170117751371\n",
      "ct_srv_src : 1.520744208527759\n",
      "ct_srv_dst : 1.5277202227943738\n",
      "ct_dst_ltm : 2.050049202215743\n",
      "ct_src_ltm : 1.840962581955314\n",
      "ct_src_dport_ltm : 2.168197284226225\n",
      "ct_dst_sport_ltm : 1.6956129186742797\n",
      "ct_dst_src_ltm : 1.5529942848340603\n",
      "sjit : 17.59771934723251\n",
      "djit : 29.669841282343242\n",
      "sinpkt : 7.912009807106001\n",
      "dinpkt : 30.08585206489461\n",
      "tcprtt : 4.115666597947527\n",
      "synack : 5.877090866281899\n",
      "ackdat : 5.705092418839836\n"
     ]
    }
   ],
   "source": [
    "print(\"Skewness of each column:\")\n",
    "for column in num_columns:\n",
    "    print(column, \":\", df_train[column].skew())"
   ]
  },
  {
   "cell_type": "code",
   "execution_count": null,
   "metadata": {},
   "outputs": [
    {
     "data": {
      "text/html": [
       "<div>\n",
       "<style scoped>\n",
       "    .dataframe tbody tr th:only-of-type {\n",
       "        vertical-align: middle;\n",
       "    }\n",
       "\n",
       "    .dataframe tbody tr th {\n",
       "        vertical-align: top;\n",
       "    }\n",
       "\n",
       "    .dataframe thead th {\n",
       "        text-align: right;\n",
       "    }\n",
       "</style>\n",
       "<table border=\"1\" class=\"dataframe\">\n",
       "  <thead>\n",
       "    <tr style=\"text-align: right;\">\n",
       "      <th></th>\n",
       "      <th>dur</th>\n",
       "      <th>sbytes</th>\n",
       "      <th>dbytes</th>\n",
       "      <th>sttl</th>\n",
       "      <th>dttl</th>\n",
       "      <th>sloss</th>\n",
       "      <th>dloss</th>\n",
       "      <th>sload</th>\n",
       "      <th>dload</th>\n",
       "      <th>spkts</th>\n",
       "      <th>...</th>\n",
       "      <th>sinpkt</th>\n",
       "      <th>dinpkt</th>\n",
       "      <th>tcprtt</th>\n",
       "      <th>synack</th>\n",
       "      <th>ackdat</th>\n",
       "      <th>proto</th>\n",
       "      <th>state</th>\n",
       "      <th>service</th>\n",
       "      <th>is_sm_ips_ports</th>\n",
       "      <th>is_ftp_login</th>\n",
       "    </tr>\n",
       "  </thead>\n",
       "  <tbody>\n",
       "    <tr>\n",
       "      <th>0</th>\n",
       "      <td>0.778778</td>\n",
       "      <td>608.0</td>\n",
       "      <td>646.0</td>\n",
       "      <td>254.0</td>\n",
       "      <td>252.0</td>\n",
       "      <td>2.0</td>\n",
       "      <td>3.0</td>\n",
       "      <td>5629.332031</td>\n",
       "      <td>5978.597168</td>\n",
       "      <td>10.0</td>\n",
       "      <td>...</td>\n",
       "      <td>86.430667</td>\n",
       "      <td>81.175219</td>\n",
       "      <td>0.12221</td>\n",
       "      <td>0.0482</td>\n",
       "      <td>0.07401</td>\n",
       "      <td>tcp</td>\n",
       "      <td>FIN</td>\n",
       "      <td>-</td>\n",
       "      <td>0.0</td>\n",
       "      <td>0.0</td>\n",
       "    </tr>\n",
       "    <tr>\n",
       "      <th>1</th>\n",
       "      <td>0.000009</td>\n",
       "      <td>200.0</td>\n",
       "      <td>0.0</td>\n",
       "      <td>254.0</td>\n",
       "      <td>79.512206</td>\n",
       "      <td>0.0</td>\n",
       "      <td>0.0</td>\n",
       "      <td>88888888.0</td>\n",
       "      <td>0.0</td>\n",
       "      <td>2.0</td>\n",
       "      <td>...</td>\n",
       "      <td>0.009</td>\n",
       "      <td>0.0</td>\n",
       "      <td>0.0</td>\n",
       "      <td>0.0</td>\n",
       "      <td>0.0</td>\n",
       "      <td>mhrp</td>\n",
       "      <td>INT</td>\n",
       "      <td>-</td>\n",
       "      <td>0.0</td>\n",
       "      <td>0.0</td>\n",
       "    </tr>\n",
       "    <tr>\n",
       "      <th>2</th>\n",
       "      <td>0.000009</td>\n",
       "      <td>114.0</td>\n",
       "      <td>0.0</td>\n",
       "      <td>254.0</td>\n",
       "      <td>0.0</td>\n",
       "      <td>0.0</td>\n",
       "      <td>0.0</td>\n",
       "      <td>50666664.0</td>\n",
       "      <td>0.0</td>\n",
       "      <td>2.0</td>\n",
       "      <td>...</td>\n",
       "      <td>0.009</td>\n",
       "      <td>0.0</td>\n",
       "      <td>0.0</td>\n",
       "      <td>0.0</td>\n",
       "      <td>0.0</td>\n",
       "      <td>udp</td>\n",
       "      <td>INT</td>\n",
       "      <td>dns</td>\n",
       "      <td>0.0</td>\n",
       "      <td>0.0</td>\n",
       "    </tr>\n",
       "    <tr>\n",
       "      <th>3</th>\n",
       "      <td>0.000008</td>\n",
       "      <td>114.0</td>\n",
       "      <td>0.0</td>\n",
       "      <td>254.0</td>\n",
       "      <td>0.0</td>\n",
       "      <td>0.0</td>\n",
       "      <td>0.0</td>\n",
       "      <td>57000000.0</td>\n",
       "      <td>0.0</td>\n",
       "      <td>2.0</td>\n",
       "      <td>...</td>\n",
       "      <td>989.930184</td>\n",
       "      <td>0.0</td>\n",
       "      <td>0.04134</td>\n",
       "      <td>0.0</td>\n",
       "      <td>0.0</td>\n",
       "      <td>udp</td>\n",
       "      <td>INT</td>\n",
       "      <td>dns</td>\n",
       "      <td>0.0</td>\n",
       "      <td>0.0</td>\n",
       "    </tr>\n",
       "    <tr>\n",
       "      <th>4</th>\n",
       "      <td>0.627731</td>\n",
       "      <td>818.0</td>\n",
       "      <td>1062.0</td>\n",
       "      <td>62.0</td>\n",
       "      <td>252.0</td>\n",
       "      <td>2.0</td>\n",
       "      <td>2.0</td>\n",
       "      <td>9392.557617</td>\n",
       "      <td>671672.922173</td>\n",
       "      <td>10.0</td>\n",
       "      <td>...</td>\n",
       "      <td>69.747889</td>\n",
       "      <td>74.994711</td>\n",
       "      <td>0.203372</td>\n",
       "      <td>0.102021</td>\n",
       "      <td>0.101351</td>\n",
       "      <td>tcp</td>\n",
       "      <td>FIN</td>\n",
       "      <td>http</td>\n",
       "      <td>0.0</td>\n",
       "      <td>0.0</td>\n",
       "    </tr>\n",
       "    <tr>\n",
       "      <th>...</th>\n",
       "      <td>...</td>\n",
       "      <td>...</td>\n",
       "      <td>...</td>\n",
       "      <td>...</td>\n",
       "      <td>...</td>\n",
       "      <td>...</td>\n",
       "      <td>...</td>\n",
       "      <td>...</td>\n",
       "      <td>...</td>\n",
       "      <td>...</td>\n",
       "      <td>...</td>\n",
       "      <td>...</td>\n",
       "      <td>...</td>\n",
       "      <td>...</td>\n",
       "      <td>...</td>\n",
       "      <td>...</td>\n",
       "      <td>...</td>\n",
       "      <td>...</td>\n",
       "      <td>...</td>\n",
       "      <td>...</td>\n",
       "      <td>...</td>\n",
       "    </tr>\n",
       "    <tr>\n",
       "      <th>140267</th>\n",
       "      <td>1.24096</td>\n",
       "      <td>10988.0</td>\n",
       "      <td>354.0</td>\n",
       "      <td>254.0</td>\n",
       "      <td>252.0</td>\n",
       "      <td>5.0</td>\n",
       "      <td>1.0</td>\n",
       "      <td>66413.10156</td>\n",
       "      <td>1998.452759</td>\n",
       "      <td>16.0</td>\n",
       "      <td>...</td>\n",
       "      <td>82.730666</td>\n",
       "      <td>159.926422</td>\n",
       "      <td>0.1431</td>\n",
       "      <td>0.101635</td>\n",
       "      <td>0.041465</td>\n",
       "      <td>tcp</td>\n",
       "      <td>FIN</td>\n",
       "      <td>-</td>\n",
       "      <td>0.0</td>\n",
       "      <td>0.0</td>\n",
       "    </tr>\n",
       "    <tr>\n",
       "      <th>140268</th>\n",
       "      <td>0.949207</td>\n",
       "      <td>564.0</td>\n",
       "      <td>354.0</td>\n",
       "      <td>254.0</td>\n",
       "      <td>252.0</td>\n",
       "      <td>2.0</td>\n",
       "      <td>1.0</td>\n",
       "      <td>4281.46875</td>\n",
       "      <td>2612.707275</td>\n",
       "      <td>10.0</td>\n",
       "      <td>...</td>\n",
       "      <td>102.387556</td>\n",
       "      <td>126.500711</td>\n",
       "      <td>0.135252</td>\n",
       "      <td>0.063701</td>\n",
       "      <td>0.071551</td>\n",
       "      <td>tcp</td>\n",
       "      <td>FIN</td>\n",
       "      <td>-</td>\n",
       "      <td>0.0</td>\n",
       "      <td>0.0</td>\n",
       "    </tr>\n",
       "    <tr>\n",
       "      <th>140269</th>\n",
       "      <td>0.000002</td>\n",
       "      <td>114.0</td>\n",
       "      <td>15112.757761</td>\n",
       "      <td>254.0</td>\n",
       "      <td>0.0</td>\n",
       "      <td>0.0</td>\n",
       "      <td>0.0</td>\n",
       "      <td>228000000.0</td>\n",
       "      <td>0.0</td>\n",
       "      <td>2.0</td>\n",
       "      <td>...</td>\n",
       "      <td>0.002</td>\n",
       "      <td>0.0</td>\n",
       "      <td>0.0</td>\n",
       "      <td>0.0</td>\n",
       "      <td>0.0</td>\n",
       "      <td>udp</td>\n",
       "      <td>INT</td>\n",
       "      <td>dns</td>\n",
       "      <td>0.0</td>\n",
       "      <td>0.0</td>\n",
       "    </tr>\n",
       "    <tr>\n",
       "      <th>140270</th>\n",
       "      <td>0.000003</td>\n",
       "      <td>9029.764284</td>\n",
       "      <td>0.0</td>\n",
       "      <td>179.562634</td>\n",
       "      <td>0.0</td>\n",
       "      <td>0.0</td>\n",
       "      <td>0.0</td>\n",
       "      <td>152000000.0</td>\n",
       "      <td>0.0</td>\n",
       "      <td>2.0</td>\n",
       "      <td>...</td>\n",
       "      <td>0.003</td>\n",
       "      <td>0.0</td>\n",
       "      <td>0.0</td>\n",
       "      <td>0.0</td>\n",
       "      <td>0.0</td>\n",
       "      <td>udp</td>\n",
       "      <td>INT</td>\n",
       "      <td>dns</td>\n",
       "      <td>0.0</td>\n",
       "      <td>0.0</td>\n",
       "    </tr>\n",
       "    <tr>\n",
       "      <th>140271</th>\n",
       "      <td>0.00182</td>\n",
       "      <td>528.0</td>\n",
       "      <td>304.0</td>\n",
       "      <td>31.0</td>\n",
       "      <td>29.0</td>\n",
       "      <td>0.0</td>\n",
       "      <td>0.0</td>\n",
       "      <td>1740659.375</td>\n",
       "      <td>1002197.813</td>\n",
       "      <td>20.530488</td>\n",
       "      <td>...</td>\n",
       "      <td>0.480333</td>\n",
       "      <td>0.215</td>\n",
       "      <td>0.0</td>\n",
       "      <td>0.0</td>\n",
       "      <td>0.0204</td>\n",
       "      <td>udp</td>\n",
       "      <td>INT</td>\n",
       "      <td>-</td>\n",
       "      <td>0.0</td>\n",
       "      <td>0.0</td>\n",
       "    </tr>\n",
       "  </tbody>\n",
       "</table>\n",
       "<p>140272 rows × 42 columns</p>\n",
       "</div>"
      ],
      "text/plain": [
       "             dur       sbytes        dbytes        sttl       dttl sloss  \\\n",
       "0       0.778778        608.0         646.0       254.0      252.0   2.0   \n",
       "1       0.000009        200.0           0.0       254.0  79.512206   0.0   \n",
       "2       0.000009        114.0           0.0       254.0        0.0   0.0   \n",
       "3       0.000008        114.0           0.0       254.0        0.0   0.0   \n",
       "4       0.627731        818.0        1062.0        62.0      252.0   2.0   \n",
       "...          ...          ...           ...         ...        ...   ...   \n",
       "140267   1.24096      10988.0         354.0       254.0      252.0   5.0   \n",
       "140268  0.949207        564.0         354.0       254.0      252.0   2.0   \n",
       "140269  0.000002        114.0  15112.757761       254.0        0.0   0.0   \n",
       "140270  0.000003  9029.764284           0.0  179.562634        0.0   0.0   \n",
       "140271   0.00182        528.0         304.0        31.0       29.0   0.0   \n",
       "\n",
       "       dloss        sload          dload      spkts  ...      sinpkt  \\\n",
       "0        3.0  5629.332031    5978.597168       10.0  ...   86.430667   \n",
       "1        0.0   88888888.0            0.0        2.0  ...       0.009   \n",
       "2        0.0   50666664.0            0.0        2.0  ...       0.009   \n",
       "3        0.0   57000000.0            0.0        2.0  ...  989.930184   \n",
       "4        2.0  9392.557617  671672.922173       10.0  ...   69.747889   \n",
       "...      ...          ...            ...        ...  ...         ...   \n",
       "140267   1.0  66413.10156    1998.452759       16.0  ...   82.730666   \n",
       "140268   1.0   4281.46875    2612.707275       10.0  ...  102.387556   \n",
       "140269   0.0  228000000.0            0.0        2.0  ...       0.002   \n",
       "140270   0.0  152000000.0            0.0        2.0  ...       0.003   \n",
       "140271   0.0  1740659.375    1002197.813  20.530488  ...    0.480333   \n",
       "\n",
       "            dinpkt    tcprtt    synack    ackdat proto state service  \\\n",
       "0        81.175219   0.12221    0.0482   0.07401   tcp   FIN       -   \n",
       "1              0.0       0.0       0.0       0.0  mhrp   INT       -   \n",
       "2              0.0       0.0       0.0       0.0   udp   INT     dns   \n",
       "3              0.0   0.04134       0.0       0.0   udp   INT     dns   \n",
       "4        74.994711  0.203372  0.102021  0.101351   tcp   FIN    http   \n",
       "...            ...       ...       ...       ...   ...   ...     ...   \n",
       "140267  159.926422    0.1431  0.101635  0.041465   tcp   FIN       -   \n",
       "140268  126.500711  0.135252  0.063701  0.071551   tcp   FIN       -   \n",
       "140269         0.0       0.0       0.0       0.0   udp   INT     dns   \n",
       "140270         0.0       0.0       0.0       0.0   udp   INT     dns   \n",
       "140271       0.215       0.0       0.0    0.0204   udp   INT       -   \n",
       "\n",
       "       is_sm_ips_ports is_ftp_login  \n",
       "0                  0.0          0.0  \n",
       "1                  0.0          0.0  \n",
       "2                  0.0          0.0  \n",
       "3                  0.0          0.0  \n",
       "4                  0.0          0.0  \n",
       "...                ...          ...  \n",
       "140267             0.0          0.0  \n",
       "140268             0.0          0.0  \n",
       "140269             0.0          0.0  \n",
       "140270             0.0          0.0  \n",
       "140271             0.0          0.0  \n",
       "\n",
       "[140272 rows x 42 columns]"
      ]
     },
     "execution_count": 63,
     "metadata": {},
     "output_type": "execute_result"
    }
   ],
   "source": [
    "missingVal_pipeline = ColumnTransformer([\n",
    " (\"num\", SimpleImputer(strategy='median'), num_columns),\n",
    " (\"cat\", SimpleImputer(strategy='most_frequent'), cat_columns)\n",
    "])\n",
    "\n",
    "# m for missing\n",
    "m_X_train = missingVal_pipeline.fit_transform(X_train)\n",
    "m_X_train_df = pd.DataFrame(m_X_train, columns=list(num_columns) + list(cat_columns))\n",
    "m_X_train_df"
   ]
  },
  {
   "cell_type": "markdown",
   "metadata": {
    "id": "zgrSMcK75VY_"
   },
   "source": [
    "### II. Dealing with Outliers\n",
    "\n",
    "Outliers are data points that significantly differ from the majority of the data. They can be unusually high or low values that do not fit the pattern of the rest of the dataset. Outliers can significantly impact model performance, so it is important to handle them properly.\n",
    "\n",
    "Some methods to handle outliers:\n",
    "1. **Imputation**: Replace with mean, median, or a boundary value.\n",
    "2. **Clipping**: Cap values to upper and lower limits.\n",
    "3. **Transformation**: Use log, square root, or power transformations to reduce their influence.\n",
    "4. **Model-Based**: Use algorithms robust to outliers (e.g., tree-based models, Huber regression)."
   ]
  },
  {
   "cell_type": "code",
   "execution_count": 278,
   "metadata": {
    "id": "CgbZ6Lv17Uf0"
   },
   "outputs": [
    {
     "data": {
      "text/html": [
       "<div>\n",
       "<style scoped>\n",
       "    .dataframe tbody tr th:only-of-type {\n",
       "        vertical-align: middle;\n",
       "    }\n",
       "\n",
       "    .dataframe tbody tr th {\n",
       "        vertical-align: top;\n",
       "    }\n",
       "\n",
       "    .dataframe thead th {\n",
       "        text-align: right;\n",
       "    }\n",
       "</style>\n",
       "<table border=\"1\" class=\"dataframe\">\n",
       "  <thead>\n",
       "    <tr style=\"text-align: right;\">\n",
       "      <th></th>\n",
       "      <th>dur</th>\n",
       "      <th>sbytes</th>\n",
       "      <th>dbytes</th>\n",
       "      <th>sttl</th>\n",
       "      <th>dttl</th>\n",
       "      <th>sloss</th>\n",
       "      <th>dloss</th>\n",
       "      <th>sload</th>\n",
       "      <th>dload</th>\n",
       "      <th>spkts</th>\n",
       "      <th>...</th>\n",
       "      <th>sinpkt</th>\n",
       "      <th>dinpkt</th>\n",
       "      <th>tcprtt</th>\n",
       "      <th>synack</th>\n",
       "      <th>ackdat</th>\n",
       "      <th>proto</th>\n",
       "      <th>state</th>\n",
       "      <th>service</th>\n",
       "      <th>is_sm_ips_ports</th>\n",
       "      <th>is_ftp_login</th>\n",
       "    </tr>\n",
       "  </thead>\n",
       "  <tbody>\n",
       "    <tr>\n",
       "      <th>0</th>\n",
       "      <td>0.778778</td>\n",
       "      <td>608.0</td>\n",
       "      <td>646.0</td>\n",
       "      <td>254.0</td>\n",
       "      <td>252.0</td>\n",
       "      <td>2.0</td>\n",
       "      <td>3.0</td>\n",
       "      <td>5629.332031</td>\n",
       "      <td>5978.597168</td>\n",
       "      <td>10.0</td>\n",
       "      <td>...</td>\n",
       "      <td>86.430667</td>\n",
       "      <td>81.175219</td>\n",
       "      <td>0.12221</td>\n",
       "      <td>0.037194</td>\n",
       "      <td>0.07401</td>\n",
       "      <td>tcp</td>\n",
       "      <td>FIN</td>\n",
       "      <td>-</td>\n",
       "      <td>0.0</td>\n",
       "      <td>0.0</td>\n",
       "    </tr>\n",
       "    <tr>\n",
       "      <th>1</th>\n",
       "      <td>0.000009</td>\n",
       "      <td>200.0</td>\n",
       "      <td>0.0</td>\n",
       "      <td>254.0</td>\n",
       "      <td>29.0</td>\n",
       "      <td>0.0</td>\n",
       "      <td>0.0</td>\n",
       "      <td>88888888.0</td>\n",
       "      <td>0.0</td>\n",
       "      <td>2.0</td>\n",
       "      <td>...</td>\n",
       "      <td>0.009</td>\n",
       "      <td>0.0</td>\n",
       "      <td>0.0</td>\n",
       "      <td>0.0</td>\n",
       "      <td>0.0</td>\n",
       "      <td>mhrp</td>\n",
       "      <td>INT</td>\n",
       "      <td>-</td>\n",
       "      <td>0.0</td>\n",
       "      <td>0.0</td>\n",
       "    </tr>\n",
       "    <tr>\n",
       "      <th>2</th>\n",
       "      <td>0.000009</td>\n",
       "      <td>114.0</td>\n",
       "      <td>0.0</td>\n",
       "      <td>254.0</td>\n",
       "      <td>0.0</td>\n",
       "      <td>0.0</td>\n",
       "      <td>0.0</td>\n",
       "      <td>50666664.0</td>\n",
       "      <td>0.0</td>\n",
       "      <td>2.0</td>\n",
       "      <td>...</td>\n",
       "      <td>0.009</td>\n",
       "      <td>0.0</td>\n",
       "      <td>0.0</td>\n",
       "      <td>0.0</td>\n",
       "      <td>0.0</td>\n",
       "      <td>udp</td>\n",
       "      <td>INT</td>\n",
       "      <td>dns</td>\n",
       "      <td>0.0</td>\n",
       "      <td>0.0</td>\n",
       "    </tr>\n",
       "    <tr>\n",
       "      <th>3</th>\n",
       "      <td>0.000008</td>\n",
       "      <td>114.0</td>\n",
       "      <td>0.0</td>\n",
       "      <td>254.0</td>\n",
       "      <td>0.0</td>\n",
       "      <td>0.0</td>\n",
       "      <td>0.0</td>\n",
       "      <td>57000000.0</td>\n",
       "      <td>0.0</td>\n",
       "      <td>2.0</td>\n",
       "      <td>...</td>\n",
       "      <td>0.280048</td>\n",
       "      <td>0.0</td>\n",
       "      <td>0.0</td>\n",
       "      <td>0.0</td>\n",
       "      <td>0.0</td>\n",
       "      <td>udp</td>\n",
       "      <td>INT</td>\n",
       "      <td>dns</td>\n",
       "      <td>0.0</td>\n",
       "      <td>0.0</td>\n",
       "    </tr>\n",
       "    <tr>\n",
       "      <th>4</th>\n",
       "      <td>0.627731</td>\n",
       "      <td>818.0</td>\n",
       "      <td>1062.0</td>\n",
       "      <td>62.0</td>\n",
       "      <td>252.0</td>\n",
       "      <td>2.0</td>\n",
       "      <td>2.0</td>\n",
       "      <td>9392.557617</td>\n",
       "      <td>1411.759339</td>\n",
       "      <td>10.0</td>\n",
       "      <td>...</td>\n",
       "      <td>69.747889</td>\n",
       "      <td>74.994711</td>\n",
       "      <td>0.139764</td>\n",
       "      <td>0.037194</td>\n",
       "      <td>0.080431</td>\n",
       "      <td>tcp</td>\n",
       "      <td>FIN</td>\n",
       "      <td>http</td>\n",
       "      <td>0.0</td>\n",
       "      <td>0.0</td>\n",
       "    </tr>\n",
       "    <tr>\n",
       "      <th>...</th>\n",
       "      <td>...</td>\n",
       "      <td>...</td>\n",
       "      <td>...</td>\n",
       "      <td>...</td>\n",
       "      <td>...</td>\n",
       "      <td>...</td>\n",
       "      <td>...</td>\n",
       "      <td>...</td>\n",
       "      <td>...</td>\n",
       "      <td>...</td>\n",
       "      <td>...</td>\n",
       "      <td>...</td>\n",
       "      <td>...</td>\n",
       "      <td>...</td>\n",
       "      <td>...</td>\n",
       "      <td>...</td>\n",
       "      <td>...</td>\n",
       "      <td>...</td>\n",
       "      <td>...</td>\n",
       "      <td>...</td>\n",
       "      <td>...</td>\n",
       "    </tr>\n",
       "    <tr>\n",
       "      <th>140267</th>\n",
       "      <td>1.24096</td>\n",
       "      <td>2999.0</td>\n",
       "      <td>354.0</td>\n",
       "      <td>254.0</td>\n",
       "      <td>252.0</td>\n",
       "      <td>5.0</td>\n",
       "      <td>1.0</td>\n",
       "      <td>66413.10156</td>\n",
       "      <td>1998.452759</td>\n",
       "      <td>16.0</td>\n",
       "      <td>...</td>\n",
       "      <td>82.730666</td>\n",
       "      <td>111.070729</td>\n",
       "      <td>0.139764</td>\n",
       "      <td>0.037194</td>\n",
       "      <td>0.041465</td>\n",
       "      <td>tcp</td>\n",
       "      <td>FIN</td>\n",
       "      <td>-</td>\n",
       "      <td>0.0</td>\n",
       "      <td>0.0</td>\n",
       "    </tr>\n",
       "    <tr>\n",
       "      <th>140268</th>\n",
       "      <td>0.949207</td>\n",
       "      <td>564.0</td>\n",
       "      <td>354.0</td>\n",
       "      <td>254.0</td>\n",
       "      <td>252.0</td>\n",
       "      <td>2.0</td>\n",
       "      <td>1.0</td>\n",
       "      <td>4281.46875</td>\n",
       "      <td>2612.707275</td>\n",
       "      <td>10.0</td>\n",
       "      <td>...</td>\n",
       "      <td>102.387556</td>\n",
       "      <td>111.070729</td>\n",
       "      <td>0.135252</td>\n",
       "      <td>0.037194</td>\n",
       "      <td>0.071551</td>\n",
       "      <td>tcp</td>\n",
       "      <td>FIN</td>\n",
       "      <td>-</td>\n",
       "      <td>0.0</td>\n",
       "      <td>0.0</td>\n",
       "    </tr>\n",
       "    <tr>\n",
       "      <th>140269</th>\n",
       "      <td>0.000002</td>\n",
       "      <td>114.0</td>\n",
       "      <td>162.0</td>\n",
       "      <td>254.0</td>\n",
       "      <td>0.0</td>\n",
       "      <td>0.0</td>\n",
       "      <td>0.0</td>\n",
       "      <td>214977736.402344</td>\n",
       "      <td>0.0</td>\n",
       "      <td>2.0</td>\n",
       "      <td>...</td>\n",
       "      <td>0.002</td>\n",
       "      <td>0.0</td>\n",
       "      <td>0.0</td>\n",
       "      <td>0.0</td>\n",
       "      <td>0.0</td>\n",
       "      <td>udp</td>\n",
       "      <td>INT</td>\n",
       "      <td>dns</td>\n",
       "      <td>0.0</td>\n",
       "      <td>0.0</td>\n",
       "    </tr>\n",
       "    <tr>\n",
       "      <th>140270</th>\n",
       "      <td>0.000003</td>\n",
       "      <td>450.0</td>\n",
       "      <td>0.0</td>\n",
       "      <td>254.0</td>\n",
       "      <td>0.0</td>\n",
       "      <td>0.0</td>\n",
       "      <td>0.0</td>\n",
       "      <td>152000000.0</td>\n",
       "      <td>0.0</td>\n",
       "      <td>2.0</td>\n",
       "      <td>...</td>\n",
       "      <td>0.003</td>\n",
       "      <td>0.0</td>\n",
       "      <td>0.0</td>\n",
       "      <td>0.0</td>\n",
       "      <td>0.0</td>\n",
       "      <td>udp</td>\n",
       "      <td>INT</td>\n",
       "      <td>dns</td>\n",
       "      <td>0.0</td>\n",
       "      <td>0.0</td>\n",
       "    </tr>\n",
       "    <tr>\n",
       "      <th>140271</th>\n",
       "      <td>0.00182</td>\n",
       "      <td>528.0</td>\n",
       "      <td>304.0</td>\n",
       "      <td>31.0</td>\n",
       "      <td>29.0</td>\n",
       "      <td>0.0</td>\n",
       "      <td>0.0</td>\n",
       "      <td>1740659.375</td>\n",
       "      <td>43618.009044</td>\n",
       "      <td>2.0</td>\n",
       "      <td>...</td>\n",
       "      <td>0.480333</td>\n",
       "      <td>0.215</td>\n",
       "      <td>0.0</td>\n",
       "      <td>0.0</td>\n",
       "      <td>0.0</td>\n",
       "      <td>udp</td>\n",
       "      <td>INT</td>\n",
       "      <td>-</td>\n",
       "      <td>0.0</td>\n",
       "      <td>0.0</td>\n",
       "    </tr>\n",
       "  </tbody>\n",
       "</table>\n",
       "<p>140272 rows × 42 columns</p>\n",
       "</div>"
      ],
      "text/plain": [
       "             dur  sbytes  dbytes   sttl   dttl sloss dloss             sload  \\\n",
       "0       0.778778   608.0   646.0  254.0  252.0   2.0   3.0       5629.332031   \n",
       "1       0.000009   200.0     0.0  254.0   29.0   0.0   0.0        88888888.0   \n",
       "2       0.000009   114.0     0.0  254.0    0.0   0.0   0.0        50666664.0   \n",
       "3       0.000008   114.0     0.0  254.0    0.0   0.0   0.0        57000000.0   \n",
       "4       0.627731   818.0  1062.0   62.0  252.0   2.0   2.0       9392.557617   \n",
       "...          ...     ...     ...    ...    ...   ...   ...               ...   \n",
       "140267   1.24096  2999.0   354.0  254.0  252.0   5.0   1.0       66413.10156   \n",
       "140268  0.949207   564.0   354.0  254.0  252.0   2.0   1.0        4281.46875   \n",
       "140269  0.000002   114.0   162.0  254.0    0.0   0.0   0.0  214977736.402344   \n",
       "140270  0.000003   450.0     0.0  254.0    0.0   0.0   0.0       152000000.0   \n",
       "140271   0.00182   528.0   304.0   31.0   29.0   0.0   0.0       1740659.375   \n",
       "\n",
       "               dload spkts  ...      sinpkt      dinpkt    tcprtt    synack  \\\n",
       "0        5978.597168  10.0  ...   86.430667   81.175219   0.12221  0.037194   \n",
       "1                0.0   2.0  ...       0.009         0.0       0.0       0.0   \n",
       "2                0.0   2.0  ...       0.009         0.0       0.0       0.0   \n",
       "3                0.0   2.0  ...    0.280048         0.0       0.0       0.0   \n",
       "4        1411.759339  10.0  ...   69.747889   74.994711  0.139764  0.037194   \n",
       "...              ...   ...  ...         ...         ...       ...       ...   \n",
       "140267   1998.452759  16.0  ...   82.730666  111.070729  0.139764  0.037194   \n",
       "140268   2612.707275  10.0  ...  102.387556  111.070729  0.135252  0.037194   \n",
       "140269           0.0   2.0  ...       0.002         0.0       0.0       0.0   \n",
       "140270           0.0   2.0  ...       0.003         0.0       0.0       0.0   \n",
       "140271  43618.009044   2.0  ...    0.480333       0.215       0.0       0.0   \n",
       "\n",
       "          ackdat proto state service is_sm_ips_ports is_ftp_login  \n",
       "0        0.07401   tcp   FIN       -             0.0          0.0  \n",
       "1            0.0  mhrp   INT       -             0.0          0.0  \n",
       "2            0.0   udp   INT     dns             0.0          0.0  \n",
       "3            0.0   udp   INT     dns             0.0          0.0  \n",
       "4       0.080431   tcp   FIN    http             0.0          0.0  \n",
       "...          ...   ...   ...     ...             ...          ...  \n",
       "140267  0.041465   tcp   FIN       -             0.0          0.0  \n",
       "140268  0.071551   tcp   FIN       -             0.0          0.0  \n",
       "140269       0.0   udp   INT     dns             0.0          0.0  \n",
       "140270       0.0   udp   INT     dns             0.0          0.0  \n",
       "140271       0.0   udp   INT       -             0.0          0.0  \n",
       "\n",
       "[140272 rows x 42 columns]"
      ]
     },
     "execution_count": 278,
     "metadata": {},
     "output_type": "execute_result"
    }
   ],
   "source": [
    "class OutlierHandler(BaseEstimator, TransformerMixin):\n",
    "    def __init__(self): # no *args or **kargs\n",
    "        return\n",
    "\n",
    "    def fit(self, X, y=None):\n",
    "        return self # nothing else to do\n",
    "    \n",
    "    def transform(self, X, y=None):\n",
    "        # Handle outliers using the IQR method\n",
    "        X_df = pd.DataFrame(X)\n",
    "        \n",
    "        # Handle outliers using the IQR method\n",
    "        for col in X_df.columns:\n",
    "            Q1 = X_df[col].quantile(0.25)  # First quartile\n",
    "            Q3 = X_df[col].quantile(0.75)  # Third quartile\n",
    "            IQR = Q3 - Q1                  # Interquartile range\n",
    "\n",
    "            # Define outlier thresholds\n",
    "            lower_bound = Q1 - 1.5 * IQR\n",
    "            upper_bound = Q3 + 1.5 * IQR\n",
    "\n",
    "            # Clip outliers to the thresholds\n",
    "            X_df[col] = X_df[col].clip(lower=lower_bound, upper=upper_bound)\n",
    "\n",
    "        # Convert the DataFrame back to a NumPy array\n",
    "        return X_df.values\n",
    "\n",
    "num_pipeline = Pipeline([\n",
    " ('imputer', SimpleImputer(strategy=\"median\")),\n",
    " ('outlier_handler', OutlierHandler()),\n",
    " ])\n",
    "\n",
    "num_cat_pipeline = ColumnTransformer([\n",
    " (\"num\", num_pipeline, num_columns),\n",
    " (\"cat\", SimpleImputer(strategy='most_frequent'), cat_columns)\n",
    "])\n",
    "\n",
    "# o for outlier\n",
    "mo_X_train = num_cat_pipeline.fit_transform(X_train)\n",
    "mo_X_train_df = pd.DataFrame(mo_X_train, columns=list(num_columns) + list(cat_columns))\n",
    "mo_X_train_df"
   ]
  },
  {
   "cell_type": "markdown",
   "metadata": {
    "id": "aO0ZEZ-s6Lu-"
   },
   "source": [
    "### III. Remove Duplicates\n",
    "Handling duplicate values is crucial because they can compromise data integrity, leading to inaccurate analysis and insights. Duplicate entries can bias machine learning models, causing overfitting and reducing their ability to generalize to new data. They also inflate the dataset size unnecessarily, increasing computational costs and processing times. Additionally, duplicates can distort statistical measures and lead to inconsistencies, ultimately affecting the reliability of data-driven decisions and reporting. Ensuring data quality by removing duplicates is essential for accurate, efficient, and consistent analysis."
   ]
  },
  {
   "cell_type": "code",
   "execution_count": 279,
   "metadata": {
    "id": "BHCkkZ-v7iF8"
   },
   "outputs": [
    {
     "name": "stdout",
     "output_type": "stream",
     "text": [
      "Empty DataFrame\n",
      "Columns: [state, dur, sbytes, dbytes, sttl, dttl, sloss, dloss, service, sload, dload, spkts, dpkts, id, swin, dwin, stcpb, dtcpb, smean, dmean, trans_depth, response_body_len, is_sm_ips_ports, ct_state_ttl, ct_flw_http_mthd, is_ftp_login, ct_ftp_cmd, ct_srv_src, ct_srv_dst, ct_dst_ltm, ct_src_ltm, ct_src_dport_ltm, ct_dst_sport_ltm, ct_dst_src_ltm, attack_cat, label, sjit, djit, sinpkt, dinpkt, tcprtt, synack, ackdat, proto]\n",
      "Index: []\n",
      "\n",
      "[0 rows x 44 columns]\n",
      "Empty DataFrame\n",
      "Columns: [state, dur, sbytes, dbytes, sttl, dttl, sloss, dloss, service, sload, dload, spkts, dpkts, id, swin, dwin, stcpb, dtcpb, smean, dmean, trans_depth, response_body_len, is_sm_ips_ports, ct_state_ttl, ct_flw_http_mthd, is_ftp_login, ct_ftp_cmd, ct_srv_src, ct_srv_dst, ct_dst_ltm, ct_src_ltm, ct_src_dport_ltm, ct_dst_sport_ltm, ct_dst_src_ltm, sjit, djit, sinpkt, dinpkt, tcprtt, synack, ackdat, proto]\n",
      "Index: []\n",
      "\n",
      "[0 rows x 42 columns]\n"
     ]
    }
   ],
   "source": [
    "duplicate_rows_train = df_train[df_train.duplicated()]\n",
    "duplicate_rows_test = df_test[df_test.duplicated()]\n",
    "print(duplicate_rows_train)\n",
    "print(duplicate_rows_test)"
   ]
  },
  {
   "cell_type": "markdown",
   "metadata": {},
   "source": [
    "There are no duplicate rows both in train data and test data."
   ]
  },
  {
   "cell_type": "markdown",
   "metadata": {
    "id": "eycPASmMLfHa"
   },
   "source": [
    "### IV. Feature Engineering\n",
    "\n",
    "**Feature engineering** involves creating new features (input variables) or transforming existing ones to improve the performance of machine learning models. Feature engineering aims to enhance the model's ability to learn patterns and make accurate predictions from the data. It's often said that \"good features make good models.\"\n",
    "\n",
    "1. **Feature Selection:** Feature engineering can involve selecting the most relevant and informative features from the dataset. Removing irrelevant or redundant features not only simplifies the model but also reduces the risk of overfitting.\n",
    "\n",
    "2. **Creating New Features:** Sometimes, the existing features may not capture the underlying patterns effectively. In such cases, engineers create new features that provide additional information. For example:\n",
    "   \n",
    "   - **Polynomial Features:** Engineers may create new features by taking the square, cube, or other higher-order terms of existing numerical features. This can help capture nonlinear relationships.\n",
    "   \n",
    "   - **Interaction Features:** Interaction features are created by combining two or more existing features. For example, if you have features \"length\" and \"width,\" you can create an \"area\" feature by multiplying them.\n",
    "\n",
    "3. **Binning or Discretization:** Continuous numerical features can be divided into bins or categories. For instance, age values can be grouped into bins like \"child,\" \"adult,\" and \"senior.\"\n",
    "\n",
    "4. **Domain-Specific Feature Engineering:** Depending on the domain and problem, engineers may create domain-specific features. For example, in fraud detection, features related to transaction history and user behavior may be engineered to identify anomalies.\n",
    "\n",
    "Feature engineering is both a creative and iterative process. It requires a deep understanding of the data, domain knowledge, and experimentation to determine which features will enhance the model's predictive power."
   ]
  },
  {
   "cell_type": "markdown",
   "metadata": {},
   "source": [
    "#### A. Remove Useless Attribute"
   ]
  },
  {
   "cell_type": "code",
   "execution_count": null,
   "metadata": {},
   "outputs": [],
   "source": [
    "mo_X_train_df = mo_X_train_df.drop('id', axis=1)"
   ]
  },
  {
   "cell_type": "code",
   "execution_count": null,
   "metadata": {},
   "outputs": [],
   "source": [
    "class ColumnDropper(BaseEstimator, TransformerMixin):\n",
    "    def __init__(self): # no *args or **kargs\n",
    "        return\n",
    "\n",
    "    def fit(self, X, y=None):\n",
    "        return self # nothing else to do\n",
    "    \n",
    "    def transform(self, X, y=None):\n",
    "        return X.drop('id', axis=1)"
   ]
  },
  {
   "cell_type": "markdown",
   "metadata": {},
   "source": [
    "#### B. Remove Similiar Attribute"
   ]
  },
  {
   "cell_type": "code",
   "execution_count": 280,
   "metadata": {},
   "outputs": [
    {
     "name": "stdout",
     "output_type": "stream",
     "text": [
      "Constant columns: ['trans_depth', 'response_body_len', 'ct_flw_http_mthd', 'ct_ftp_cmd']\n"
     ]
    }
   ],
   "source": [
    "constant_columns = mo_X_train_df[num_columns].loc[:, mo_X_train_df[num_columns].std() == 0]\n",
    "print(\"Constant columns:\", constant_columns.columns.tolist())"
   ]
  },
  {
   "cell_type": "markdown",
   "metadata": {},
   "source": [
    "Constant column will be removed for correlation matrix"
   ]
  },
  {
   "cell_type": "code",
   "execution_count": 348,
   "metadata": {},
   "outputs": [],
   "source": [
    "from sklearn.preprocessing import StandardScaler\n",
    "\n",
    "scaler = StandardScaler()\n",
    "scaled_data = scaler.fit_transform(mo_X_train_df[num_columns])\n",
    "scaled_df = pd.DataFrame(scaled_data, columns=num_columns)"
   ]
  },
  {
   "cell_type": "code",
   "execution_count": 431,
   "metadata": {
    "id": "UoXEV6wkLfHa"
   },
   "outputs": [
    {
     "name": "stdout",
     "output_type": "stream",
     "text": [
      "High correlation pairs:\n",
      "ct_srv_src  ct_srv_dst    0.913170\n",
      "ct_srv_dst  ct_srv_src    0.913170\n",
      "tcprtt      synack        0.910763\n",
      "synack      tcprtt        0.910763\n",
      "tcprtt      ackdat        0.908077\n",
      "ackdat      tcprtt        0.908077\n",
      "swin        dwin          0.902764\n",
      "dwin        swin          0.902764\n",
      "dtype: float64\n"
     ]
    }
   ],
   "source": [
    "corr_df = scaled_df[num_columns].loc[:, mo_X_train_df[num_columns].std() != 0]\n",
    "correlation_matrix = corr_df.corr()\n",
    "\n",
    "high_corr = correlation_matrix.unstack() \n",
    "high_corr = high_corr[high_corr > 0.9]\n",
    "high_corr = high_corr[high_corr < 1.0]\n",
    "high_corr = high_corr.sort_values(ascending=False)\n",
    "\n",
    "# Print the result\n",
    "print(\"High correlation pairs:\")\n",
    "print(high_corr)"
   ]
  },
  {
   "cell_type": "code",
   "execution_count": null,
   "metadata": {},
   "outputs": [
    {
     "name": "stdout",
     "output_type": "stream",
     "text": [
      "Removed attribute:  ['ct_srv_src', 'tcprtt', 'tcprtt', 'swin']\n"
     ]
    },
    {
     "data": {
      "text/html": [
       "<div>\n",
       "<style scoped>\n",
       "    .dataframe tbody tr th:only-of-type {\n",
       "        vertical-align: middle;\n",
       "    }\n",
       "\n",
       "    .dataframe tbody tr th {\n",
       "        vertical-align: top;\n",
       "    }\n",
       "\n",
       "    .dataframe thead th {\n",
       "        text-align: right;\n",
       "    }\n",
       "</style>\n",
       "<table border=\"1\" class=\"dataframe\">\n",
       "  <thead>\n",
       "    <tr style=\"text-align: right;\">\n",
       "      <th></th>\n",
       "      <th>dur</th>\n",
       "      <th>sbytes</th>\n",
       "      <th>dbytes</th>\n",
       "      <th>sttl</th>\n",
       "      <th>dttl</th>\n",
       "      <th>sloss</th>\n",
       "      <th>dloss</th>\n",
       "      <th>sload</th>\n",
       "      <th>dload</th>\n",
       "      <th>spkts</th>\n",
       "      <th>...</th>\n",
       "      <th>djit</th>\n",
       "      <th>sinpkt</th>\n",
       "      <th>dinpkt</th>\n",
       "      <th>synack</th>\n",
       "      <th>ackdat</th>\n",
       "      <th>proto</th>\n",
       "      <th>state</th>\n",
       "      <th>service</th>\n",
       "      <th>is_sm_ips_ports</th>\n",
       "      <th>is_ftp_login</th>\n",
       "    </tr>\n",
       "  </thead>\n",
       "  <tbody>\n",
       "    <tr>\n",
       "      <th>0</th>\n",
       "      <td>0.778778</td>\n",
       "      <td>608.0</td>\n",
       "      <td>646.0</td>\n",
       "      <td>254.0</td>\n",
       "      <td>252.0</td>\n",
       "      <td>2.0</td>\n",
       "      <td>3.0</td>\n",
       "      <td>5629.332031</td>\n",
       "      <td>5978.597168</td>\n",
       "      <td>10.0</td>\n",
       "      <td>...</td>\n",
       "      <td>102.742672</td>\n",
       "      <td>86.430667</td>\n",
       "      <td>81.175219</td>\n",
       "      <td>0.037194</td>\n",
       "      <td>0.07401</td>\n",
       "      <td>tcp</td>\n",
       "      <td>FIN</td>\n",
       "      <td>-</td>\n",
       "      <td>0.0</td>\n",
       "      <td>0.0</td>\n",
       "    </tr>\n",
       "    <tr>\n",
       "      <th>1</th>\n",
       "      <td>0.000009</td>\n",
       "      <td>200.0</td>\n",
       "      <td>0.0</td>\n",
       "      <td>254.0</td>\n",
       "      <td>29.0</td>\n",
       "      <td>0.0</td>\n",
       "      <td>0.0</td>\n",
       "      <td>88888888.0</td>\n",
       "      <td>0.0</td>\n",
       "      <td>2.0</td>\n",
       "      <td>...</td>\n",
       "      <td>0.0</td>\n",
       "      <td>0.009</td>\n",
       "      <td>0.0</td>\n",
       "      <td>0.0</td>\n",
       "      <td>0.0</td>\n",
       "      <td>mhrp</td>\n",
       "      <td>INT</td>\n",
       "      <td>-</td>\n",
       "      <td>0.0</td>\n",
       "      <td>0.0</td>\n",
       "    </tr>\n",
       "    <tr>\n",
       "      <th>2</th>\n",
       "      <td>0.000009</td>\n",
       "      <td>114.0</td>\n",
       "      <td>0.0</td>\n",
       "      <td>254.0</td>\n",
       "      <td>0.0</td>\n",
       "      <td>0.0</td>\n",
       "      <td>0.0</td>\n",
       "      <td>50666664.0</td>\n",
       "      <td>0.0</td>\n",
       "      <td>2.0</td>\n",
       "      <td>...</td>\n",
       "      <td>0.0</td>\n",
       "      <td>0.009</td>\n",
       "      <td>0.0</td>\n",
       "      <td>0.0</td>\n",
       "      <td>0.0</td>\n",
       "      <td>udp</td>\n",
       "      <td>INT</td>\n",
       "      <td>dns</td>\n",
       "      <td>0.0</td>\n",
       "      <td>0.0</td>\n",
       "    </tr>\n",
       "    <tr>\n",
       "      <th>3</th>\n",
       "      <td>0.000008</td>\n",
       "      <td>114.0</td>\n",
       "      <td>0.0</td>\n",
       "      <td>254.0</td>\n",
       "      <td>0.0</td>\n",
       "      <td>0.0</td>\n",
       "      <td>0.0</td>\n",
       "      <td>57000000.0</td>\n",
       "      <td>0.0</td>\n",
       "      <td>2.0</td>\n",
       "      <td>...</td>\n",
       "      <td>0.0</td>\n",
       "      <td>0.280048</td>\n",
       "      <td>0.0</td>\n",
       "      <td>0.0</td>\n",
       "      <td>0.0</td>\n",
       "      <td>udp</td>\n",
       "      <td>INT</td>\n",
       "      <td>dns</td>\n",
       "      <td>0.0</td>\n",
       "      <td>0.0</td>\n",
       "    </tr>\n",
       "    <tr>\n",
       "      <th>4</th>\n",
       "      <td>0.627731</td>\n",
       "      <td>818.0</td>\n",
       "      <td>1062.0</td>\n",
       "      <td>62.0</td>\n",
       "      <td>252.0</td>\n",
       "      <td>2.0</td>\n",
       "      <td>2.0</td>\n",
       "      <td>9392.557617</td>\n",
       "      <td>1411.759339</td>\n",
       "      <td>10.0</td>\n",
       "      <td>...</td>\n",
       "      <td>115.159023</td>\n",
       "      <td>69.747889</td>\n",
       "      <td>74.994711</td>\n",
       "      <td>0.037194</td>\n",
       "      <td>0.080431</td>\n",
       "      <td>tcp</td>\n",
       "      <td>FIN</td>\n",
       "      <td>http</td>\n",
       "      <td>0.0</td>\n",
       "      <td>0.0</td>\n",
       "    </tr>\n",
       "    <tr>\n",
       "      <th>...</th>\n",
       "      <td>...</td>\n",
       "      <td>...</td>\n",
       "      <td>...</td>\n",
       "      <td>...</td>\n",
       "      <td>...</td>\n",
       "      <td>...</td>\n",
       "      <td>...</td>\n",
       "      <td>...</td>\n",
       "      <td>...</td>\n",
       "      <td>...</td>\n",
       "      <td>...</td>\n",
       "      <td>...</td>\n",
       "      <td>...</td>\n",
       "      <td>...</td>\n",
       "      <td>...</td>\n",
       "      <td>...</td>\n",
       "      <td>...</td>\n",
       "      <td>...</td>\n",
       "      <td>...</td>\n",
       "      <td>...</td>\n",
       "      <td>...</td>\n",
       "    </tr>\n",
       "    <tr>\n",
       "      <th>140267</th>\n",
       "      <td>1.24096</td>\n",
       "      <td>2999.0</td>\n",
       "      <td>354.0</td>\n",
       "      <td>254.0</td>\n",
       "      <td>252.0</td>\n",
       "      <td>5.0</td>\n",
       "      <td>1.0</td>\n",
       "      <td>66413.10156</td>\n",
       "      <td>1998.452759</td>\n",
       "      <td>16.0</td>\n",
       "      <td>...</td>\n",
       "      <td>240.295547</td>\n",
       "      <td>82.730666</td>\n",
       "      <td>111.070729</td>\n",
       "      <td>0.037194</td>\n",
       "      <td>0.041465</td>\n",
       "      <td>tcp</td>\n",
       "      <td>FIN</td>\n",
       "      <td>-</td>\n",
       "      <td>0.0</td>\n",
       "      <td>0.0</td>\n",
       "    </tr>\n",
       "    <tr>\n",
       "      <th>140268</th>\n",
       "      <td>0.949207</td>\n",
       "      <td>564.0</td>\n",
       "      <td>354.0</td>\n",
       "      <td>254.0</td>\n",
       "      <td>252.0</td>\n",
       "      <td>2.0</td>\n",
       "      <td>1.0</td>\n",
       "      <td>4281.46875</td>\n",
       "      <td>2612.707275</td>\n",
       "      <td>10.0</td>\n",
       "      <td>...</td>\n",
       "      <td>182.607109</td>\n",
       "      <td>102.387556</td>\n",
       "      <td>111.070729</td>\n",
       "      <td>0.037194</td>\n",
       "      <td>0.071551</td>\n",
       "      <td>tcp</td>\n",
       "      <td>FIN</td>\n",
       "      <td>-</td>\n",
       "      <td>0.0</td>\n",
       "      <td>0.0</td>\n",
       "    </tr>\n",
       "    <tr>\n",
       "      <th>140269</th>\n",
       "      <td>0.000002</td>\n",
       "      <td>114.0</td>\n",
       "      <td>162.0</td>\n",
       "      <td>254.0</td>\n",
       "      <td>0.0</td>\n",
       "      <td>0.0</td>\n",
       "      <td>0.0</td>\n",
       "      <td>214977736.402344</td>\n",
       "      <td>0.0</td>\n",
       "      <td>2.0</td>\n",
       "      <td>...</td>\n",
       "      <td>0.0</td>\n",
       "      <td>0.002</td>\n",
       "      <td>0.0</td>\n",
       "      <td>0.0</td>\n",
       "      <td>0.0</td>\n",
       "      <td>udp</td>\n",
       "      <td>INT</td>\n",
       "      <td>dns</td>\n",
       "      <td>0.0</td>\n",
       "      <td>0.0</td>\n",
       "    </tr>\n",
       "    <tr>\n",
       "      <th>140270</th>\n",
       "      <td>0.000003</td>\n",
       "      <td>450.0</td>\n",
       "      <td>0.0</td>\n",
       "      <td>254.0</td>\n",
       "      <td>0.0</td>\n",
       "      <td>0.0</td>\n",
       "      <td>0.0</td>\n",
       "      <td>152000000.0</td>\n",
       "      <td>0.0</td>\n",
       "      <td>2.0</td>\n",
       "      <td>...</td>\n",
       "      <td>0.0</td>\n",
       "      <td>0.003</td>\n",
       "      <td>0.0</td>\n",
       "      <td>0.0</td>\n",
       "      <td>0.0</td>\n",
       "      <td>udp</td>\n",
       "      <td>INT</td>\n",
       "      <td>dns</td>\n",
       "      <td>0.0</td>\n",
       "      <td>0.0</td>\n",
       "    </tr>\n",
       "    <tr>\n",
       "      <th>140271</th>\n",
       "      <td>0.00182</td>\n",
       "      <td>528.0</td>\n",
       "      <td>304.0</td>\n",
       "      <td>31.0</td>\n",
       "      <td>29.0</td>\n",
       "      <td>0.0</td>\n",
       "      <td>0.0</td>\n",
       "      <td>1740659.375</td>\n",
       "      <td>43618.009044</td>\n",
       "      <td>2.0</td>\n",
       "      <td>...</td>\n",
       "      <td>0.29628</td>\n",
       "      <td>0.480333</td>\n",
       "      <td>0.215</td>\n",
       "      <td>0.0</td>\n",
       "      <td>0.0</td>\n",
       "      <td>udp</td>\n",
       "      <td>INT</td>\n",
       "      <td>-</td>\n",
       "      <td>0.0</td>\n",
       "      <td>0.0</td>\n",
       "    </tr>\n",
       "  </tbody>\n",
       "</table>\n",
       "<p>140272 rows × 39 columns</p>\n",
       "</div>"
      ],
      "text/plain": [
       "             dur  sbytes  dbytes   sttl   dttl sloss dloss             sload  \\\n",
       "0       0.778778   608.0   646.0  254.0  252.0   2.0   3.0       5629.332031   \n",
       "1       0.000009   200.0     0.0  254.0   29.0   0.0   0.0        88888888.0   \n",
       "2       0.000009   114.0     0.0  254.0    0.0   0.0   0.0        50666664.0   \n",
       "3       0.000008   114.0     0.0  254.0    0.0   0.0   0.0        57000000.0   \n",
       "4       0.627731   818.0  1062.0   62.0  252.0   2.0   2.0       9392.557617   \n",
       "...          ...     ...     ...    ...    ...   ...   ...               ...   \n",
       "140267   1.24096  2999.0   354.0  254.0  252.0   5.0   1.0       66413.10156   \n",
       "140268  0.949207   564.0   354.0  254.0  252.0   2.0   1.0        4281.46875   \n",
       "140269  0.000002   114.0   162.0  254.0    0.0   0.0   0.0  214977736.402344   \n",
       "140270  0.000003   450.0     0.0  254.0    0.0   0.0   0.0       152000000.0   \n",
       "140271   0.00182   528.0   304.0   31.0   29.0   0.0   0.0       1740659.375   \n",
       "\n",
       "               dload spkts  ...        djit      sinpkt      dinpkt    synack  \\\n",
       "0        5978.597168  10.0  ...  102.742672   86.430667   81.175219  0.037194   \n",
       "1                0.0   2.0  ...         0.0       0.009         0.0       0.0   \n",
       "2                0.0   2.0  ...         0.0       0.009         0.0       0.0   \n",
       "3                0.0   2.0  ...         0.0    0.280048         0.0       0.0   \n",
       "4        1411.759339  10.0  ...  115.159023   69.747889   74.994711  0.037194   \n",
       "...              ...   ...  ...         ...         ...         ...       ...   \n",
       "140267   1998.452759  16.0  ...  240.295547   82.730666  111.070729  0.037194   \n",
       "140268   2612.707275  10.0  ...  182.607109  102.387556  111.070729  0.037194   \n",
       "140269           0.0   2.0  ...         0.0       0.002         0.0       0.0   \n",
       "140270           0.0   2.0  ...         0.0       0.003         0.0       0.0   \n",
       "140271  43618.009044   2.0  ...     0.29628    0.480333       0.215       0.0   \n",
       "\n",
       "          ackdat proto state service is_sm_ips_ports is_ftp_login  \n",
       "0        0.07401   tcp   FIN       -             0.0          0.0  \n",
       "1            0.0  mhrp   INT       -             0.0          0.0  \n",
       "2            0.0   udp   INT     dns             0.0          0.0  \n",
       "3            0.0   udp   INT     dns             0.0          0.0  \n",
       "4       0.080431   tcp   FIN    http             0.0          0.0  \n",
       "...          ...   ...   ...     ...             ...          ...  \n",
       "140267  0.041465   tcp   FIN       -             0.0          0.0  \n",
       "140268  0.071551   tcp   FIN       -             0.0          0.0  \n",
       "140269       0.0   udp   INT     dns             0.0          0.0  \n",
       "140270       0.0   udp   INT     dns             0.0          0.0  \n",
       "140271       0.0   udp   INT       -             0.0          0.0  \n",
       "\n",
       "[140272 rows x 39 columns]"
      ]
     },
     "execution_count": 522,
     "metadata": {},
     "output_type": "execute_result"
    }
   ],
   "source": [
    "removed_attributes = set([x[0] for x in high_corr.index][0::2])\n",
    "print(\"Removed attribute: \", removed_attributes)\n",
    "fmo_X_train_df = mo_X_train_df.drop(removed_attributes, axis=1)\n",
    "fmo_X_train_df"
   ]
  },
  {
   "cell_type": "code",
   "execution_count": null,
   "metadata": {},
   "outputs": [],
   "source": [
    "class SimiliarAttributeRemover(BaseEstimator, TransformerMixin):\n",
    "    def __init__(self): # no *args or **kargs\n",
    "        return\n",
    "\n",
    "    def fit(self, X, y=None):\n",
    "        return self # nothing else to do\n",
    "    \n",
    "    def transform(self, X, y=None):\n",
    "        X_df = pd.DataFrame(X)\n",
    "        \n",
    "        scaled_data = scaler.fit_transform(X_df)\n",
    "        scaled_df = pd.DataFrame(scaled_data)\n",
    "\n",
    "        # remove constant attribute\n",
    "        corr_df = scaled_df.loc[:, mo_X_train_df.std() != 0]\n",
    "        correlation_matrix = corr_df.corr()\n",
    "\n",
    "        high_corr = correlation_matrix.unstack() \n",
    "        high_corr = high_corr[high_corr > 0.9]\n",
    "        high_corr = high_corr[high_corr < 1.0]\n",
    "        high_corr = high_corr.sort_values(ascending=False)\n",
    "\n",
    "\n",
    "        removed_attributes = [x[0] for x in high_corr.index][0::2]\n",
    "        \n",
    "        X_df.drop(removed_attributes, axis=1)\n",
    "\n",
    "        return X_df.values"
   ]
  },
  {
   "cell_type": "markdown",
   "metadata": {},
   "source": [
    "#### B. "
   ]
  },
  {
   "cell_type": "markdown",
   "metadata": {
    "id": "xw11_49xLfHb"
   },
   "source": [
    "## B. Data Preprocessing\n",
    "\n",
    "**Data preprocessing** is a broader step that encompasses both data cleaning and additional transformations to make the data suitable for machine learning algorithms. Its primary goals are:\n",
    "\n",
    "1. **Feature Scaling:** Ensure that numerical features have similar scales. Common techniques include Min-Max scaling (scaling to a specific range) or standardization (mean-centered, unit variance).\n",
    "\n",
    "2. **Encoding Categorical Variables:** Machine learning models typically work with numerical data, so categorical variables need to be encoded. This can be done using one-hot encoding, label encoding, or more advanced methods like target encoding.\n",
    "\n",
    "3. **Handling Imbalanced Classes:** If dealing with imbalanced classes in a binary classification task, apply techniques such as oversampling, undersampling, or using different evaluation metrics to address class imbalance.\n",
    "\n",
    "4. **Dimensionality Reduction:** Reduce the number of features using techniques like Principal Component Analysis (PCA) or feature selection to simplify the model and potentially improve its performance.\n",
    "\n",
    "5. **Normalization:** Normalize data to achieve a standard distribution. This is particularly important for algorithms that assume normally distributed data."
   ]
  },
  {
   "cell_type": "markdown",
   "metadata": {
    "id": "rVyVnA1hLfHd"
   },
   "source": [
    "### Notes on Preprocessing processes\n",
    "\n",
    "It is advised to create functions or classes that have the same/similar type of inputs and outputs, so you can add, remove, or swap the order of the processes easily. You can implement the functions or classes by yourself\n",
    "\n",
    "or\n",
    "\n",
    "use `sklearn` library. To create a new preprocessing component in `sklearn`, implement a corresponding class that includes:\n",
    "1. Inheritance to `BaseEstimator` and `TransformerMixin`\n",
    "2. The method `fit`\n",
    "3. The method `transform`"
   ]
  },
  {
   "cell_type": "code",
   "execution_count": 524,
   "metadata": {
    "id": "WbxHt-5eKz_I"
   },
   "outputs": [],
   "source": [
    "# Example\n",
    "\n",
    "# from sklearn.base import BaseEstimator, TransformerMixin\n",
    "\n",
    "# class FeatureEncoder(BaseEstimator, TransformerMixin):\n",
    "\n",
    "#     def fit(self, X, y=None):\n",
    "\n",
    "#         # Fit the encoder here\n",
    "\n",
    "#         return self\n",
    "\n",
    "#     def transform(self, X):\n",
    "#         X_encoded = X.copy()\n",
    "\n",
    "#         # Encode the categorical variables here\n",
    "\n",
    "#         return X_encoded"
   ]
  },
  {
   "cell_type": "markdown",
   "metadata": {
    "id": "WhCgOl4xLfHb"
   },
   "source": [
    "### I. Feature Scaling\n",
    "\n",
    "**Feature scaling** is a preprocessing technique used in machine learning to standardize the range of independent variables or features of data. The primary goal of feature scaling is to ensure that all features contribute equally to the training process and that machine learning algorithms can work effectively with the data.\n",
    "\n",
    "Here are the main reasons why feature scaling is important:\n",
    "\n",
    "1. **Algorithm Sensitivity:** Many machine learning algorithms are sensitive to the scale of input features. If the scales of features are significantly different, some algorithms may perform poorly or take much longer to converge.\n",
    "\n",
    "2. **Distance-Based Algorithms:** Algorithms that rely on distances or similarities between data points, such as k-nearest neighbors (KNN) and support vector machines (SVM), can be influenced by feature scales. Features with larger scales may dominate the distance calculations.\n",
    "\n",
    "3. **Regularization:** Regularization techniques, like L1 (Lasso) and L2 (Ridge) regularization, add penalty terms based on feature coefficients. Scaling ensures that all features are treated equally in the regularization process.\n",
    "\n",
    "Common methods for feature scaling include:\n",
    "\n",
    "1. **Min-Max Scaling (Normalization):** This method scales features to a specific range, typically [0, 1]. It's done using the following formula:\n",
    "\n",
    "   $$X' = \\frac{X - X_{min}}{X_{max} - X_{min}}$$\n",
    "\n",
    "   - Here, $X$ is the original feature value, $X_{min}$ is the minimum value of the feature, and $X_{max}$ is the maximum value of the feature.  \n",
    "<br />\n",
    "<br />\n",
    "2. **Standardization (Z-score Scaling):** This method scales features to have a mean (average) of 0 and a standard deviation of 1. It's done using the following formula:\n",
    "\n",
    "   $$X' = \\frac{X - \\mu}{\\sigma}$$\n",
    "\n",
    "   - $X$ is the original feature value, $\\mu$ is the mean of the feature, and $\\sigma$ is the standard deviation of the feature.  \n",
    "<br />\n",
    "<br />\n",
    "3. **Robust Scaling:** Robust scaling is a method that scales features to the interquartile range (IQR) and is less affected by outliers. It's calculated as:\n",
    "\n",
    "   $$X' = \\frac{X - Q1}{Q3 - Q1}$$\n",
    "\n",
    "   - $X$ is the original feature value, $Q1$ is the first quartile (25th percentile), and $Q3$ is the third quartile (75th percentile) of the feature.  \n",
    "<br />\n",
    "<br />\n",
    "4. **Log Transformation:** In cases where data is highly skewed or has a heavy-tailed distribution, taking the logarithm of the feature values can help stabilize the variance and improve scaling.\n",
    "\n",
    "The choice of scaling method depends on the characteristics of your data and the requirements of your machine learning algorithm. **Min-max scaling and standardization are the most commonly used techniques and work well for many datasets.**\n",
    "\n",
    "Scaling should be applied separately to each training and test set to prevent data leakage from the test set into the training set. Additionally, **some algorithms may not require feature scaling, particularly tree-based models.**"
   ]
  },
  {
   "cell_type": "code",
   "execution_count": 525,
   "metadata": {
    "id": "COef9EbCLfHb"
   },
   "outputs": [],
   "source": [
    "# Write your code here"
   ]
  },
  {
   "cell_type": "markdown",
   "metadata": {
    "id": "f_Lh-4JwLfHc"
   },
   "source": [
    "### II. Feature Encoding\n",
    "\n",
    "**Feature encoding**, also known as **categorical encoding**, is the process of converting categorical data (non-numeric data) into a numerical format so that it can be used as input for machine learning algorithms. Most machine learning models require numerical data for training and prediction, so feature encoding is a critical step in data preprocessing.\n",
    "\n",
    "Categorical data can take various forms, including:\n",
    "\n",
    "1. **Nominal Data:** Categories with no intrinsic order, like colors or country names.  \n",
    "\n",
    "2. **Ordinal Data:** Categories with a meaningful order but not necessarily equidistant, like education levels (e.g., \"high school,\" \"bachelor's,\" \"master's\").\n",
    "\n",
    "There are several common methods for encoding categorical data:\n",
    "\n",
    "1. **Label Encoding:**\n",
    "\n",
    "   - Label encoding assigns a unique integer to each category in a feature.\n",
    "   - It's suitable for ordinal data where there's a clear order among categories.\n",
    "   - For example, if you have an \"education\" feature with values \"high school,\" \"bachelor's,\" and \"master's,\" you can encode them as 0, 1, and 2, respectively.\n",
    "<br />\n",
    "<br />\n",
    "2. **One-Hot Encoding:**\n",
    "\n",
    "   - One-hot encoding creates a binary (0 or 1) column for each category in a nominal feature.\n",
    "   - It's suitable for nominal data where there's no inherent order among categories.\n",
    "   - Each category becomes a new feature, and the presence (1) or absence (0) of a category is indicated for each row.\n",
    "<br />\n",
    "<br />\n",
    "3. **Target Encoding (Mean Encoding):**\n",
    "\n",
    "   - Target encoding replaces each category with the mean of the target variable for that category.\n",
    "   - It's often used for classification problems."
   ]
  },
  {
   "cell_type": "code",
   "execution_count": 526,
   "metadata": {
    "id": "psElSUugLfHc"
   },
   "outputs": [],
   "source": [
    "# Write your code here"
   ]
  },
  {
   "cell_type": "markdown",
   "metadata": {
    "id": "jKQO9wtB8Pc0"
   },
   "source": [
    "### III. Handling Imbalanced Dataset\n",
    "\n",
    "**Handling imbalanced datasets** is important because imbalanced data can lead to several issues that negatively impact the performance and reliability of machine learning models. Here are some key reasons:\n",
    "\n",
    "1. **Biased Model Performance**:\n",
    "\n",
    " - Models trained on imbalanced data tend to be biased towards the majority class, leading to poor performance on the minority class. This can result in misleading accuracy metrics.\n",
    "\n",
    "2. **Misleading Accuracy**:\n",
    "\n",
    " - High overall accuracy can be misleading in imbalanced datasets. For example, if 95% of the data belongs to one class, a model that always predicts the majority class will have 95% accuracy but will fail to identify the minority class.\n",
    "\n",
    "3. **Poor Generalization**:\n",
    "\n",
    " - Models trained on imbalanced data may not generalize well to new, unseen data, especially if the minority class is underrepresented.\n",
    "\n",
    "\n",
    "Some methods to handle imbalanced datasets:\n",
    "1. **Resampling Methods**:\n",
    "\n",
    " - Oversampling: Increase the number of instances in the minority class by duplicating or generating synthetic samples (e.g., SMOTE).\n",
    " - Undersampling: Reduce the number of instances in the majority class to balance the dataset.\n",
    "\n",
    "2. **Evaluation Metrics**:\n",
    "\n",
    " - Use appropriate evaluation metrics such as precision, recall, F1-score, ROC-AUC, and confusion matrix instead of accuracy to better assess model performance on imbalanced data.\n",
    "\n",
    "3. **Algorithmic Approaches**:\n",
    "\n",
    " - Use algorithms that are designed to handle imbalanced data, such as decision trees, random forests, or ensemble methods.\n",
    " - Adjust class weights in algorithms to give more importance to the minority class."
   ]
  },
  {
   "cell_type": "code",
   "execution_count": 527,
   "metadata": {
    "id": "u2BQd2XJ9W1i"
   },
   "outputs": [],
   "source": [
    "# Write your code here"
   ]
  },
  {
   "cell_type": "markdown",
   "metadata": {
    "id": "fTMSyUzf_-HQ"
   },
   "source": [
    "### IV. Data Normalization\n",
    "\n",
    "Data normalization is used to achieve a standard distribution. Without normalization, models or processes that rely on the assumption of normality may not work correctly. Normalization helps reduce the magnitude effect and ensures numerical stability during optimization."
   ]
  },
  {
   "cell_type": "code",
   "execution_count": 528,
   "metadata": {
    "id": "HLOWHftjF1JU"
   },
   "outputs": [],
   "source": [
    "# Write your code here"
   ]
  },
  {
   "cell_type": "markdown",
   "metadata": {
    "id": "MSZPZSntF3Kb"
   },
   "source": [
    "### V. Dimensionality Reduction\n",
    "\n",
    "Dimensionality reduction is a technique used in data preprocessing to reduce the number of input features (dimensions) in a dataset while retaining as much important information as possible. It is essential when dealing with high-dimensional data, where too many features can cause problems like increased computational costs, overfitting, and difficulty in visualization. Reducing dimensions simplifies the data, making it easier to analyze and improving the performance of machine learning models.\n",
    "\n",
    "One of the main approaches to dimensionality reduction is feature extraction. Feature extraction creates new, smaller sets of features that capture the essence of the original data. Common techniques include:\n",
    "\n",
    "1. **Principal Component Analysis (PCA)**: Converts correlated features into a smaller number of uncorrelated \"principal components.\"\n",
    "2. **t-SNE (t-Distributed Stochastic Neighbor Embedding)**: A visualization-focused method to project high-dimensional data into 2D or 3D spaces.\n",
    "3. **Autoencoders**: Neural networks that learn compressed representations of the data."
   ]
  },
  {
   "cell_type": "code",
   "execution_count": 529,
   "metadata": {
    "id": "5rksSMAWICY_"
   },
   "outputs": [],
   "source": [
    "# Write your code here"
   ]
  },
  {
   "cell_type": "markdown",
   "metadata": {
    "id": "-ctVzt5DLfHd"
   },
   "source": [
    "# 3. Compile Preprocessing Pipeline\n",
    "\n",
    "All of the preprocessing classes or functions defined earlier will be compiled in this step."
   ]
  },
  {
   "cell_type": "markdown",
   "metadata": {
    "id": "S_ZlncSVjJG6"
   },
   "source": [
    "If you use sklearn to create preprocessing classes, you can list your preprocessing classes in the Pipeline object sequentially, and then fit and transform your data."
   ]
  },
  {
   "cell_type": "code",
   "execution_count": 530,
   "metadata": {
    "id": "jHraoW_7LfHd"
   },
   "outputs": [],
   "source": [
    "# from sklearn.pipeline import Pipeline\n",
    "\n",
    "# # Note: You can add or delete preprocessing components from this pipeline\n",
    "\n",
    "# pipe = Pipeline([(\"imputer\", FeatureImputer()),\n",
    "#                  (\"featurecreator\", FeatureCreator()),\n",
    "#                  (\"scaler\", FeatureScaler()),\n",
    "#                  (\"encoder\", FeatureEncoder())])\n",
    "\n",
    "# train_set = pipe.fit_transform(train_set)\n",
    "# val_set = pipe.transform(val_set)"
   ]
  },
  {
   "cell_type": "code",
   "execution_count": 531,
   "metadata": {
    "id": "9s56aFFxLfHd"
   },
   "outputs": [],
   "source": [
    "# # Your code should work up until this point\n",
    "# train_set = pipe.fit_transform(train_set)\n",
    "# val_set = pipe.transform(val_set)"
   ]
  },
  {
   "cell_type": "markdown",
   "metadata": {
    "id": "SXoCqMztjhr-"
   },
   "source": [
    "or create your own here"
   ]
  },
  {
   "cell_type": "code",
   "execution_count": 532,
   "metadata": {
    "id": "7OoZ3oXEj2CW"
   },
   "outputs": [],
   "source": [
    "# Write your code here"
   ]
  },
  {
   "cell_type": "markdown",
   "metadata": {
    "id": "9A3adbZXLfHe"
   },
   "source": [
    "# 4. Modeling and Validation\n",
    "\n",
    "Modelling is the process of building your own machine learning models to solve specific problems, or in this assignment context, predicting the target feature `attack_cat`. Validation is the process of evaluating your trained model using the validation set or cross-validation method and providing some metrics that can help you decide what to do in the next iteration of development."
   ]
  },
  {
   "cell_type": "markdown",
   "metadata": {
    "id": "ZnhMNbBILfHf"
   },
   "source": [
    "## A. KNN"
   ]
  },
  {
   "cell_type": "code",
   "execution_count": 533,
   "metadata": {
    "id": "KV6ICmFmlqjk"
   },
   "outputs": [],
   "source": [
    "# Type your code here"
   ]
  },
  {
   "cell_type": "markdown",
   "metadata": {
    "id": "nW0bMzkDLfHf"
   },
   "source": [
    "## B. Naive Bayes"
   ]
  },
  {
   "cell_type": "code",
   "execution_count": 534,
   "metadata": {
    "id": "C_XwsN_-LfHg"
   },
   "outputs": [],
   "source": [
    "# Type your code here"
   ]
  },
  {
   "cell_type": "markdown",
   "metadata": {
    "id": "TLDtIkPdLfHg"
   },
   "source": [
    "## C. ID3"
   ]
  },
  {
   "cell_type": "code",
   "execution_count": 535,
   "metadata": {
    "id": "gZ6_x1LKLfHh"
   },
   "outputs": [],
   "source": [
    "# Type your code here"
   ]
  },
  {
   "cell_type": "markdown",
   "metadata": {
    "id": "LoH2u6fOLfHh"
   },
   "source": [
    "## D. Improvements (Optional)\n",
    "\n",
    "- **Visualize the model evaluation result**\n",
    "\n",
    "This will help you to understand the details more clearly about your model's performance. From the visualization, you can see clearly if your model is leaning towards a class than the others. (Hint: confusion matrix, ROC-AUC curve, etc.)\n",
    "\n",
    "- **Explore the hyperparameters of your models**\n",
    "\n",
    "Each models have their own hyperparameters. And each of the hyperparameter have different effects on the model behaviour. You can optimize the model performance by finding the good set of hyperparameters through a process called **hyperparameter tuning**. (Hint: Grid search, random search, bayesian optimization)\n",
    "\n",
    "- **Cross-validation**\n",
    "\n",
    "Cross-validation is a critical technique in machine learning and data science for evaluating and validating the performance of predictive models. It provides a more **robust** and **reliable** evaluation method compared to a hold-out (single train-test set) validation. Though, it requires more time and computing power because of how cross-validation works. (Hint: k-fold cross-validation, stratified k-fold cross-validation, etc.)"
   ]
  },
  {
   "cell_type": "code",
   "execution_count": 536,
   "metadata": {
    "id": "pg-A54yELfHh"
   },
   "outputs": [],
   "source": [
    "# Type your code here"
   ]
  },
  {
   "cell_type": "markdown",
   "metadata": {
    "id": "Li4l53DjLfHh"
   },
   "source": [
    "## E. Submission\n",
    "To predict the test set target feature and submit the results to the kaggle competition platform, do the following:\n",
    "1. Create a new pipeline instance identical to the first in Data Preprocessing\n",
    "2. With the pipeline, apply `fit_transform` to the original training set before splitting, then only apply `transform` to the test set.\n",
    "3. Retrain the model on the preprocessed training set\n",
    "4. Predict the test set\n",
    "5. Make sure the submission contains the `id` and `attack_cat` column."
   ]
  },
  {
   "cell_type": "code",
   "execution_count": 537,
   "metadata": {
    "id": "LeqnfWc-LfHi"
   },
   "outputs": [],
   "source": [
    "# Type your code here"
   ]
  },
  {
   "cell_type": "markdown",
   "metadata": {
    "id": "R-jXvKOpLfHi"
   },
   "source": [
    "# 6. Error Analysis\n",
    "\n",
    "Based on all the process you have done until the modeling and evaluation step, write an analysis to support each steps you have taken to solve this problem. Write the analysis using the markdown block. Some questions that may help you in writing the analysis:\n",
    "\n",
    "- Does my model perform better in predicting one class than the other? If so, why is that?\n",
    "- To each models I have tried, which performs the best and what could be the reason?\n",
    "- Is it better for me to impute or drop the missing data? Why?\n",
    "- Does feature scaling help improve my model performance?\n",
    "- etc..."
   ]
  },
  {
   "cell_type": "markdown",
   "metadata": {
    "id": "tWL3nEAELfHj"
   },
   "source": [
    "`Provide your analysis here`"
   ]
  }
 ],
 "metadata": {
  "colab": {
   "provenance": [],
   "toc_visible": true
  },
  "kernelspec": {
   "display_name": "Python 3",
   "language": "python",
   "name": "python3"
  },
  "language_info": {
   "codemirror_mode": {
    "name": "ipython",
    "version": 3
   },
   "file_extension": ".py",
   "mimetype": "text/x-python",
   "name": "python",
   "nbconvert_exporter": "python",
   "pygments_lexer": "ipython3",
   "version": "3.10.7"
  }
 },
 "nbformat": 4,
 "nbformat_minor": 0
}
