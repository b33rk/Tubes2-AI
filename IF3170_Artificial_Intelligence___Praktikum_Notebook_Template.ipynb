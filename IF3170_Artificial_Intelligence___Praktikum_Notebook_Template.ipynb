{
 "cells": [
  {
   "cell_type": "markdown",
   "metadata": {
    "id": "uR1JW69eLfG_"
   },
   "source": [
    "# IF3170 Artificial Intelligence | Praktikum\n",
    "\n",
    "This notebook serves as a template for the assignment. Please create a copy of this notebook to complete your work. You can add more code blocks, markdown blocks, or new sections if needed.\n"
   ]
  },
  {
   "cell_type": "markdown",
   "metadata": {
    "id": "ucbaI5rBLtjJ"
   },
   "source": [
    "Group Number: xx\n",
    "\n",
    "Group Members:\n",
    "- Name (NIM)\n",
    "- Name (NIM)"
   ]
  },
  {
   "cell_type": "markdown",
   "metadata": {
    "id": "GwzsfETHLfHA"
   },
   "source": [
    "## Import Libraries"
   ]
  },
  {
   "cell_type": "code",
   "execution_count": 4014,
   "metadata": {
    "id": "jZJU5W_4LfHB"
   },
   "outputs": [],
   "source": [
    "import pandas as pd\n",
    "import numpy as np\n",
    "from sklearn.model_selection import train_test_split\n",
    "from sklearn.pipeline import Pipeline\n",
    "from sklearn.preprocessing import StandardScaler\n",
    "from sklearn.compose import ColumnTransformer\n",
    "from sklearn.preprocessing import OneHotEncoder\n",
    "from sklearn.impute import SimpleImputer\n",
    "from sklearn.base import BaseEstimator, TransformerMixin\n",
    "import matplotlib.pyplot as plt\n",
    "from sklearn.neighbors import KNeighborsClassifier\n",
    "from sklearn.naive_bayes import GaussianNB\n",
    "from sklearn.tree import DecisionTreeClassifier\n",
    "from sklearn.svm import SVC\n",
    "from sklearn.linear_model import LogisticRegression\n",
    "from sklearn.metrics import log_loss\n",
    "from sklearn.metrics import roc_curve, auc\n",
    "from xgboost import XGBClassifier\n",
    "from catboost import CatBoostClassifier\n",
    "from sklearn.calibration import LabelEncoder\n",
    "from sklearn.preprocessing import PowerTransformer\n",
    "from sklearn.ensemble import RandomForestClassifier\n",
    "from sklearn.datasets import make_classification\n",
    "from sklearn.preprocessing import LabelBinarizer\n",
    "\n",
    "\n",
    "\n",
    "# Import other libraries if needed"
   ]
  },
  {
   "cell_type": "markdown",
   "metadata": {
    "id": "OKbjLIdYLfHC"
   },
   "source": [
    "## Import Dataset"
   ]
  },
  {
   "cell_type": "code",
   "execution_count": 4015,
   "metadata": {
    "id": "-IWFJ-gdLfHD"
   },
   "outputs": [],
   "source": [
    "# Write your code here\n",
    "df_train = pd.read_csv('data/train.csv')\n",
    "df_test = pd.read_csv('data/test.csv')"
   ]
  },
  {
   "cell_type": "markdown",
   "metadata": {
    "id": "YdSor5sdIYGs"
   },
   "source": [
    "# 1. Exploratory Data Analysis\n",
    "\n",
    "Exploratory Data Analysis (EDA) is a crucial step in the data analysis process that involves examining and visualizing data sets to uncover patterns, trends, anomalies, and insights. It is the first step before applying more advanced statistical and machine learning techniques. EDA helps you to gain a deep understanding of the data you are working with, allowing you to make informed decisions and formulate hypotheses for further analysis."
   ]
  },
  {
   "cell_type": "code",
   "execution_count": 4016,
   "metadata": {},
   "outputs": [],
   "source": [
    "df_train.drop('id', axis=1, inplace=True)"
   ]
  },
  {
   "cell_type": "code",
   "execution_count": 4017,
   "metadata": {
    "id": "bGiGPVYNIoWk"
   },
   "outputs": [
    {
     "name": "stdout",
     "output_type": "stream",
     "text": [
      "<class 'pandas.core.frame.DataFrame'>\n",
      "RangeIndex: 15000 entries, 0 to 14999\n",
      "Data columns (total 19 columns):\n",
      " #   Column         Non-Null Count  Dtype  \n",
      "---  ------         --------------  -----  \n",
      " 0   N_Days         15000 non-null  float64\n",
      " 1   Drug           8450 non-null   object \n",
      " 2   Age            15000 non-null  float64\n",
      " 3   Sex            15000 non-null  object \n",
      " 4   Ascites        8453 non-null   object \n",
      " 5   Hepatomegaly   8448 non-null   object \n",
      " 6   Spiders        8441 non-null   object \n",
      " 7   Edema          15000 non-null  object \n",
      " 8   Bilirubin      15000 non-null  float64\n",
      " 9   Cholesterol    6626 non-null   float64\n",
      " 10  Albumin        15000 non-null  float64\n",
      " 11  Copper         8340 non-null   float64\n",
      " 12  Alk_Phos       8444 non-null   float64\n",
      " 13  SGOT           8441 non-null   float64\n",
      " 14  Tryglicerides  6575 non-null   float64\n",
      " 15  Platelets      14416 non-null  float64\n",
      " 16  Prothrombin    14984 non-null  float64\n",
      " 17  Stage          15000 non-null  float64\n",
      " 18  Status         15000 non-null  object \n",
      "dtypes: float64(12), object(7)\n",
      "memory usage: 2.2+ MB\n"
     ]
    }
   ],
   "source": [
    "# Write your code here\n",
    "df_train.info()"
   ]
  },
  {
   "cell_type": "markdown",
   "metadata": {
    "id": "gvx-gT3bLfHM"
   },
   "source": [
    "# 2. Split Training Set and Validation Set\n",
    "\n",
    "Splitting the training and validation set works as an early diagnostic towards the performance of the model we train. This is done before the preprocessing steps to **avoid data leakage inbetween the sets**. If you want to use k-fold cross-validation, split the data later and do the cleaning and preprocessing separately for each split.\n",
    "\n",
    "Note: For training, you should use the data contained in the `train.csv` given by the TA. The `test.csv` data is only used for kaggle submission."
   ]
  },
  {
   "cell_type": "code",
   "execution_count": 4018,
   "metadata": {
    "id": "4yWCUFFBLfHM"
   },
   "outputs": [],
   "source": [
    "target_columns = ['Status']\n",
    "# cat_columns = list(df_train.select_dtypes(include='object').columns) + list(['Stage'])\n",
    "cat_columns = list(df_train.select_dtypes(include='object').columns)\n",
    "indices_to_remove = [i for i, val in enumerate(cat_columns) if val in target_columns]\n",
    "cat_columns = np.delete(cat_columns, indices_to_remove)\n",
    "num_columns = [x for x in df_train.columns if x not in cat_columns and x not in target_columns]"
   ]
  },
  {
   "cell_type": "code",
   "execution_count": 4019,
   "metadata": {},
   "outputs": [],
   "source": [
    "X_train = df_train.drop(target_columns, axis=1)\n",
    "y_train = df_train[target_columns]"
   ]
  },
  {
   "cell_type": "code",
   "execution_count": 4020,
   "metadata": {},
   "outputs": [],
   "source": [
    "X_train, X_val, y_train, y_val = train_test_split(X_train, y_train, test_size=0.2, random_state=42)"
   ]
  },
  {
   "cell_type": "markdown",
   "metadata": {
    "id": "IC14lmo_LfHN"
   },
   "source": [
    "# 3. Data Cleaning and Preprocessing\n",
    "\n",
    "This step is the first thing to be done once a Data Scientist have grasped a general knowledge of the data. Raw data is **seldom ready for training**, therefore steps need to be taken to clean and format the data for the Machine Learning model to interpret.\n",
    "\n",
    "By performing data cleaning and preprocessing, you ensure that your dataset is ready for model training, leading to more accurate and reliable machine learning results. These steps are essential for transforming raw data into a format that machine learning algorithms can effectively learn from and make predictions.\n",
    "\n",
    "For each step that you will do, **please explain the reason why did you do that process. Write it in a markdown cell under the code cell you wrote.**"
   ]
  },
  {
   "cell_type": "code",
   "execution_count": 4021,
   "metadata": {
    "id": "5rksSMAWICY_"
   },
   "outputs": [
    {
     "data": {
      "text/plain": [
       "58.35"
      ]
     },
     "execution_count": 4021,
     "metadata": {},
     "output_type": "execute_result"
    }
   ],
   "source": [
    "len(X_train[X_train.isna().any(axis=1)]) * 100 /len(X_train)"
   ]
  },
  {
   "cell_type": "code",
   "execution_count": 4022,
   "metadata": {},
   "outputs": [
    {
     "name": "stdout",
     "output_type": "stream",
     "text": [
      "Column N_Days - 0.00% missing values\n",
      "Column Age - 0.00% missing values\n",
      "Column Bilirubin - 0.00% missing values\n",
      "Column Cholesterol - 56.03% missing values\n",
      "Column Albumin - 0.00% missing values\n",
      "Column Copper - 44.47% missing values\n",
      "Column Alk_Phos - 43.82% missing values\n",
      "Column SGOT - 43.84% missing values\n",
      "Column Tryglicerides - 56.42% missing values\n",
      "Column Platelets - 3.92% missing values\n",
      "Column Prothrombin - 0.09% missing values\n",
      "Column Stage - 0.00% missing values\n"
     ]
    }
   ],
   "source": [
    "missing_column = []\n",
    "for column in num_columns:\n",
    "    missing_percentage = X_train[column].isna().sum() / len(X_train) * 100\n",
    "    if missing_percentage > 5:\n",
    "        missing_column.append(column)\n",
    "    print(f\"Column {column} - {missing_percentage:.2f}% missing values\")"
   ]
  },
  {
   "cell_type": "code",
   "execution_count": 4023,
   "metadata": {},
   "outputs": [
    {
     "name": "stdout",
     "output_type": "stream",
     "text": [
      "Column Drug - 43.81% missing values\n",
      "Column Sex - 0.00% missing values\n",
      "Column Ascites - 43.77% missing values\n",
      "Column Hepatomegaly - 43.82% missing values\n",
      "Column Spiders - 43.84% missing values\n",
      "Column Edema - 0.00% missing values\n"
     ]
    }
   ],
   "source": [
    "for column in cat_columns:\n",
    "    missing_percentage = X_train[column].isna().sum() / len(X_train) * 100\n",
    "    if missing_percentage > 5:\n",
    "        missing_column.append(column)\n",
    "    print(f\"Column {column} - {missing_percentage:.2f}% missing values\")"
   ]
  },
  {
   "cell_type": "code",
   "execution_count": 4024,
   "metadata": {},
   "outputs": [
    {
     "name": "stdout",
     "output_type": "stream",
     "text": [
      "Platelets : 2.340967199225039\n"
     ]
    }
   ],
   "source": [
    "print('Platelets', \":\", df_train['Platelets'].skew())"
   ]
  },
  {
   "cell_type": "code",
   "execution_count": 4025,
   "metadata": {},
   "outputs": [],
   "source": [
    "class MissingValueHandler(BaseEstimator, TransformerMixin):\n",
    "    def __init__(self, isNum = False, isNewCat = False):\n",
    "        self.isNum = isNum\n",
    "        self.isNewCat = isNewCat\n",
    "        return\n",
    "\n",
    "    def fit(self, X, y=None):\n",
    "        return self \n",
    "    \n",
    "    def transform(self, X, y=None):\n",
    "        if not isinstance(X, pd.DataFrame):\n",
    "            X = pd.DataFrame(X)\n",
    "        if (self.isNum):\n",
    "            simple_imputer = SimpleImputer(strategy='mean')\n",
    "        else:\n",
    "            simple_imputer = SimpleImputer(strategy='most_frequent')\n",
    "\n",
    "        for col in X.columns:\n",
    "            X[[col]] = simple_imputer.fit_transform(X[[col]])\n",
    "            if (self.isNewCat):\n",
    "                X[col] = X[col].fillna(\"Missing\")\n",
    "\n",
    "        return X\n",
    "\n",
    "missing_value_handler = MissingValueHandler()\n",
    "mo_X_train = missing_value_handler.fit_transform(X_train)\n",
    "# mo_X_train_df = pd.DataFrame(mo_X_train, columns=[x for x in (list(cat_columns) + list(num_columns)) if x not in missing_column])"
   ]
  },
  {
   "cell_type": "code",
   "execution_count": 4026,
   "metadata": {},
   "outputs": [],
   "source": [
    "class NumClipper(BaseEstimator, TransformerMixin):\n",
    "    def __init__(self, isToCat=False):\n",
    "        self.isToCat = isToCat\n",
    "        self.clip_values_ = None\n",
    "\n",
    "    def fit(self, X, y=None):\n",
    "        X_df = pd.DataFrame(X)\n",
    "        self.clip_values_ = X_df.quantile(0.85)\n",
    "        return self\n",
    "    \n",
    "    def transform(self, X, y=None):\n",
    "        X_df = pd.DataFrame(X)\n",
    "        X_clipped = X_df.clip(upper=self.clip_values_, axis=1)\n",
    "\n",
    "        if self.isToCat:\n",
    "            X_clipped = X_clipped.applymap(lambda x: 1 if x == self.clip_values_ else 0)\n",
    "        \n",
    "        return X_clipped"
   ]
  },
  {
   "cell_type": "code",
   "execution_count": 4027,
   "metadata": {},
   "outputs": [],
   "source": [
    "class TargetEncoder(BaseEstimator, TransformerMixin):\n",
    "    def __init__(self):\n",
    "        self.target_means_ = {}\n",
    "\n",
    "    def fit(self, X, y=None):\n",
    "        if not isinstance(X, pd.DataFrame):\n",
    "            X = pd.DataFrame(X)\n",
    "\n",
    "        for col in X.columns:\n",
    "            self.target_means_[col] = y.groupby(X[col]).mean().to_dict()\n",
    "        \n",
    "        return self\n",
    "    \n",
    "    def transform(self, X, y=None):\n",
    "        print('target encode')\n",
    "\n",
    "        if not isinstance(X, pd.DataFrame):\n",
    "            X = pd.DataFrame(X)\n",
    "\n",
    "        X_encoded = X.copy()\n",
    "        for col, mapping in self.target_means_.items():\n",
    "            if col in X_encoded.columns:\n",
    "                X_encoded[col] = X_encoded[col].map(mapping).fillna(0)\n",
    "\n",
    "        return X_encoded"
   ]
  },
  {
   "cell_type": "code",
   "execution_count": null,
   "metadata": {},
   "outputs": [],
   "source": []
  },
  {
   "cell_type": "markdown",
   "metadata": {
    "id": "-ctVzt5DLfHd"
   },
   "source": [
    "# 3. Compile Preprocessing Pipeline\n",
    "\n",
    "All of the preprocessing classes or functions defined earlier will be compiled in this step."
   ]
  },
  {
   "cell_type": "markdown",
   "metadata": {
    "id": "S_ZlncSVjJG6"
   },
   "source": [
    "If you use sklearn to create preprocessing classes, you can list your preprocessing classes in the Pipeline object sequentially, and then fit and transform your data."
   ]
  },
  {
   "cell_type": "code",
   "execution_count": 4028,
   "metadata": {
    "id": "jHraoW_7LfHd"
   },
   "outputs": [
    {
     "name": "stderr",
     "output_type": "stream",
     "text": [
      "c:\\Users\\abdul\\AppData\\Local\\Programs\\Python\\Python310\\lib\\site-packages\\sklearn\\preprocessing\\_label.py:114: DataConversionWarning: A column-vector y was passed when a 1d array was expected. Please change the shape of y to (n_samples, ), for example using ravel().\n",
      "  y = column_or_1d(y, warn=True)\n",
      "c:\\Users\\abdul\\AppData\\Local\\Programs\\Python\\Python310\\lib\\site-packages\\sklearn\\preprocessing\\_label.py:114: DataConversionWarning: A column-vector y was passed when a 1d array was expected. Please change the shape of y to (n_samples, ), for example using ravel().\n",
      "  y = column_or_1d(y, warn=True)\n"
     ]
    },
    {
     "name": "stdout",
     "output_type": "stream",
     "text": [
      "target encode\n",
      "target encode\n"
     ]
    },
    {
     "name": "stderr",
     "output_type": "stream",
     "text": [
      "C:\\Users\\abdul\\AppData\\Local\\Temp\\ipykernel_24792\\3426821207.py:23: FutureWarning: Downcasting object dtype arrays on .fillna, .ffill, .bfill is deprecated and will change in a future version. Call result.infer_objects(copy=False) instead. To opt-in to the future behavior, set `pd.set_option('future.no_silent_downcasting', True)`\n",
      "  X_encoded[col] = X_encoded[col].map(mapping).fillna(0)\n",
      "C:\\Users\\abdul\\AppData\\Local\\Temp\\ipykernel_24792\\3426821207.py:23: FutureWarning: Downcasting object dtype arrays on .fillna, .ffill, .bfill is deprecated and will change in a future version. Call result.infer_objects(copy=False) instead. To opt-in to the future behavior, set `pd.set_option('future.no_silent_downcasting', True)`\n",
      "  X_encoded[col] = X_encoded[col].map(mapping).fillna(0)\n",
      "C:\\Users\\abdul\\AppData\\Local\\Temp\\ipykernel_24792\\3426821207.py:23: FutureWarning: Downcasting object dtype arrays on .fillna, .ffill, .bfill is deprecated and will change in a future version. Call result.infer_objects(copy=False) instead. To opt-in to the future behavior, set `pd.set_option('future.no_silent_downcasting', True)`\n",
      "  X_encoded[col] = X_encoded[col].map(mapping).fillna(0)\n",
      "C:\\Users\\abdul\\AppData\\Local\\Temp\\ipykernel_24792\\3426821207.py:23: FutureWarning: Downcasting object dtype arrays on .fillna, .ffill, .bfill is deprecated and will change in a future version. Call result.infer_objects(copy=False) instead. To opt-in to the future behavior, set `pd.set_option('future.no_silent_downcasting', True)`\n",
      "  X_encoded[col] = X_encoded[col].map(mapping).fillna(0)\n",
      "C:\\Users\\abdul\\AppData\\Local\\Temp\\ipykernel_24792\\3426821207.py:23: FutureWarning: Downcasting object dtype arrays on .fillna, .ffill, .bfill is deprecated and will change in a future version. Call result.infer_objects(copy=False) instead. To opt-in to the future behavior, set `pd.set_option('future.no_silent_downcasting', True)`\n",
      "  X_encoded[col] = X_encoded[col].map(mapping).fillna(0)\n",
      "C:\\Users\\abdul\\AppData\\Local\\Temp\\ipykernel_24792\\3426821207.py:23: FutureWarning: Downcasting object dtype arrays on .fillna, .ffill, .bfill is deprecated and will change in a future version. Call result.infer_objects(copy=False) instead. To opt-in to the future behavior, set `pd.set_option('future.no_silent_downcasting', True)`\n",
      "  X_encoded[col] = X_encoded[col].map(mapping).fillna(0)\n",
      "C:\\Users\\abdul\\AppData\\Local\\Temp\\ipykernel_24792\\3426821207.py:23: FutureWarning: Downcasting object dtype arrays on .fillna, .ffill, .bfill is deprecated and will change in a future version. Call result.infer_objects(copy=False) instead. To opt-in to the future behavior, set `pd.set_option('future.no_silent_downcasting', True)`\n",
      "  X_encoded[col] = X_encoded[col].map(mapping).fillna(0)\n",
      "C:\\Users\\abdul\\AppData\\Local\\Temp\\ipykernel_24792\\3426821207.py:23: FutureWarning: Downcasting object dtype arrays on .fillna, .ffill, .bfill is deprecated and will change in a future version. Call result.infer_objects(copy=False) instead. To opt-in to the future behavior, set `pd.set_option('future.no_silent_downcasting', True)`\n",
      "  X_encoded[col] = X_encoded[col].map(mapping).fillna(0)\n",
      "C:\\Users\\abdul\\AppData\\Local\\Temp\\ipykernel_24792\\3426821207.py:23: FutureWarning: Downcasting object dtype arrays on .fillna, .ffill, .bfill is deprecated and will change in a future version. Call result.infer_objects(copy=False) instead. To opt-in to the future behavior, set `pd.set_option('future.no_silent_downcasting', True)`\n",
      "  X_encoded[col] = X_encoded[col].map(mapping).fillna(0)\n",
      "C:\\Users\\abdul\\AppData\\Local\\Temp\\ipykernel_24792\\3426821207.py:23: FutureWarning: Downcasting object dtype arrays on .fillna, .ffill, .bfill is deprecated and will change in a future version. Call result.infer_objects(copy=False) instead. To opt-in to the future behavior, set `pd.set_option('future.no_silent_downcasting', True)`\n",
      "  X_encoded[col] = X_encoded[col].map(mapping).fillna(0)\n",
      "C:\\Users\\abdul\\AppData\\Local\\Temp\\ipykernel_24792\\3426821207.py:23: FutureWarning: Downcasting object dtype arrays on .fillna, .ffill, .bfill is deprecated and will change in a future version. Call result.infer_objects(copy=False) instead. To opt-in to the future behavior, set `pd.set_option('future.no_silent_downcasting', True)`\n",
      "  X_encoded[col] = X_encoded[col].map(mapping).fillna(0)\n",
      "C:\\Users\\abdul\\AppData\\Local\\Temp\\ipykernel_24792\\3426821207.py:23: FutureWarning: Downcasting object dtype arrays on .fillna, .ffill, .bfill is deprecated and will change in a future version. Call result.infer_objects(copy=False) instead. To opt-in to the future behavior, set `pd.set_option('future.no_silent_downcasting', True)`\n",
      "  X_encoded[col] = X_encoded[col].map(mapping).fillna(0)\n"
     ]
    }
   ],
   "source": [
    "# Note: You can add or delete preprocessing components from this pipeline\n",
    "cat_pipeline = Pipeline([\n",
    "    ('imputer', MissingValueHandler(isNum=False, isNewCat=False)),\n",
    "    ('encoder', TargetEncoder()),\n",
    "    # ('encoder', OneHotEncoder(handle_unknown='ignore')),\n",
    "])\n",
    "\n",
    "num_pipeline = Pipeline([\n",
    "    ('imputer', MissingValueHandler(isNum=True)),\n",
    "    ('numClipper', NumClipper()),\n",
    "    ('transformer', PowerTransformer(method='yeo-johnson')),\n",
    "    ('Scaler', StandardScaler())\n",
    "])\n",
    "\n",
    "num_cat_pipeline = ColumnTransformer([\n",
    "    (\"num\", num_pipeline, num_columns),\n",
    "    (\"cat\", cat_pipeline, cat_columns)\n",
    "])\n",
    "\n",
    "final_pipeline = Pipeline([\n",
    "    ('num_cat', num_cat_pipeline)\n",
    "])\n",
    "\n",
    "label_encoder = LabelEncoder()\n",
    "y_train = pd.DataFrame(label_encoder.fit_transform(y_train))\n",
    "y_val = pd.DataFrame(label_encoder.fit_transform(y_val))\n",
    "\n",
    "X_train_prepared = final_pipeline.fit_transform(X_train, y_train)\n",
    "X_test_prepared = final_pipeline.fit_transform(X_val, y_val)"
   ]
  },
  {
   "cell_type": "markdown",
   "metadata": {
    "id": "SXoCqMztjhr-"
   },
   "source": [
    "or create your own here"
   ]
  },
  {
   "cell_type": "code",
   "execution_count": 4029,
   "metadata": {
    "id": "7OoZ3oXEj2CW"
   },
   "outputs": [],
   "source": [
    "# Write your code here"
   ]
  },
  {
   "cell_type": "markdown",
   "metadata": {
    "id": "9A3adbZXLfHe"
   },
   "source": [
    "# 4. Modeling and Validation\n",
    "\n",
    "Modelling is the process of building your own machine learning models to solve specific problems, or in this assignment context, predicting the probability for each class in the `Status` feature (`Status_C`, `Status_CL`, `Status_D`). Validation is the process of evaluating your trained model using the validation set or cross-validation method and providing some metrics that can help you decide what to do in the next iteration of development."
   ]
  },
  {
   "cell_type": "code",
   "execution_count": 4030,
   "metadata": {},
   "outputs": [],
   "source": [
    "def plot_roc(y_test, y_pred_proba):\n",
    "    fpr, tpr, _ = roc_curve(y_test, y_pred_proba)\n",
    "    roc_auc = auc(fpr, tpr)\n",
    "\n",
    "    plt.figure()\n",
    "    plt.plot(fpr, tpr, color='blue', lw=2, label='ROC curve (area = %0.2f)' % roc_auc)\n",
    "    plt.plot([0, 1], [0, 1], color='gray', linestyle='--')\n",
    "    plt.xlabel('False Positive Rate')\n",
    "    plt.ylabel('True Positive Rate')\n",
    "    plt.title('Receiver Operating Characteristic')\n",
    "    plt.legend(loc=\"lower right\")\n",
    "    plt.show()"
   ]
  },
  {
   "cell_type": "code",
   "execution_count": 4031,
   "metadata": {},
   "outputs": [],
   "source": [
    "def feature_importances_plot(model):\n",
    "    importances = model.feature_importances_\n",
    "    feature_names = X_train.columns\n",
    "\n",
    "    plt.barh(feature_names, importances)\n",
    "    plt.xlabel('Feature Importance')\n",
    "    plt.title('Feature Importance Plot')\n",
    "    plt.show()"
   ]
  },
  {
   "cell_type": "code",
   "execution_count": 4033,
   "metadata": {},
   "outputs": [
    {
     "name": "stderr",
     "output_type": "stream",
     "text": [
      "c:\\Users\\abdul\\AppData\\Local\\Programs\\Python\\Python310\\lib\\site-packages\\sklearn\\base.py:1473: DataConversionWarning: A column-vector y was passed when a 1d array was expected. Please change the shape of y to (n_samples,), for example using ravel().\n",
      "  return fit_method(estimator, *args, **kwargs)\n"
     ]
    },
    {
     "name": "stdout",
     "output_type": "stream",
     "text": [
      "Log Loss: 0.4666384239255493\n"
     ]
    },
    {
     "data": {
      "image/png": "[encoded data removed]",
      "text/plain": [
       "<Figure size 640x480 with 1 Axes>"
      ]
     },
     "metadata": {},
     "output_type": "display_data"
    }
   ],
   "source": [
    "rf = RandomForestClassifier(random_state=42, n_estimators=100)\n",
    "rf.fit(X_train_prepared, y_train)\n",
    "y_pred = rf.predict_proba(X_test_prepared)\n",
    "\n",
    "loss = log_loss(y_val, y_pred)\n",
    "print(f'Log Loss: {loss}')\n",
    "feature_importances_plot(rf)"
   ]
  },
  {
   "cell_type": "code",
   "execution_count": 4034,
   "metadata": {},
   "outputs": [],
   "source": [
    "# Initialize the LabelBinarizer\n",
    "lb = LabelBinarizer()\n",
    "\n",
    "# Fit and transform y_val to one-hot encoding\n",
    "y_val = lb.fit_transform(y_val)"
   ]
  },
  {
   "cell_type": "code",
   "execution_count": 4035,
   "metadata": {},
   "outputs": [
    {
     "data": {
      "text/plain": [
       "(12000, 18)"
      ]
     },
     "execution_count": 4035,
     "metadata": {},
     "output_type": "execute_result"
    }
   ],
   "source": [
    "X_train_prepared.shape"
   ]
  },
  {
   "cell_type": "code",
   "execution_count": 4036,
   "metadata": {},
   "outputs": [
    {
     "data": {
      "text/plain": [
       "(3000, 18)"
      ]
     },
     "execution_count": 4036,
     "metadata": {},
     "output_type": "execute_result"
    }
   ],
   "source": [
    "X_test_prepared.shape"
   ]
  },
  {
   "cell_type": "markdown",
   "metadata": {
    "id": "ZnhMNbBILfHf"
   },
   "source": [
    "## KNN"
   ]
  },
  {
   "cell_type": "code",
   "execution_count": 4037,
   "metadata": {
    "id": "KV6ICmFmlqjk"
   },
   "outputs": [
    {
     "name": "stderr",
     "output_type": "stream",
     "text": [
      "c:\\Users\\abdul\\AppData\\Local\\Programs\\Python\\Python310\\lib\\site-packages\\sklearn\\neighbors\\_classification.py:238: DataConversionWarning: A column-vector y was passed when a 1d array was expected. Please change the shape of y to (n_samples,), for example using ravel().\n",
      "  return self._fit(X, y)\n"
     ]
    }
   ],
   "source": [
    "# Type your code here\n",
    "knn = KNeighborsClassifier(n_neighbors=500)\n",
    "knn.fit(X_train_prepared, y_train)\n",
    "\n",
    "# Predict\n",
    "y_pred = knn.predict_proba(X_test_prepared)"
   ]
  },
  {
   "cell_type": "code",
   "execution_count": 4038,
   "metadata": {},
   "outputs": [
    {
     "name": "stdout",
     "output_type": "stream",
     "text": [
      "Log Loss: 0.4418173712211099\n"
     ]
    }
   ],
   "source": [
    "loss = log_loss(y_val, y_pred)\n",
    "print(f'Log Loss: {loss}')"
   ]
  },
  {
   "cell_type": "markdown",
   "metadata": {
    "id": "nW0bMzkDLfHf"
   },
   "source": [
    "## Naive Bayes"
   ]
  },
  {
   "cell_type": "code",
   "execution_count": 4039,
   "metadata": {
    "id": "C_XwsN_-LfHg"
   },
   "outputs": [
    {
     "name": "stderr",
     "output_type": "stream",
     "text": [
      "c:\\Users\\abdul\\AppData\\Local\\Programs\\Python\\Python310\\lib\\site-packages\\sklearn\\utils\\validation.py:1310: DataConversionWarning: A column-vector y was passed when a 1d array was expected. Please change the shape of y to (n_samples, ), for example using ravel().\n",
      "  y = column_or_1d(y, warn=True)\n"
     ]
    }
   ],
   "source": [
    "# Type your code here\n",
    "gaussiannb = GaussianNB()\n",
    "gaussiannb.fit(X_train_prepared, y_train)\n",
    "\n",
    "# Predict\n",
    "y_pred = knn.predict_proba(X_test_prepared)"
   ]
  },
  {
   "cell_type": "code",
   "execution_count": 4040,
   "metadata": {},
   "outputs": [
    {
     "name": "stdout",
     "output_type": "stream",
     "text": [
      "Log Loss: 0.4418173712211099\n"
     ]
    }
   ],
   "source": [
    "loss = log_loss(y_val, y_pred)\n",
    "print(f'Log Loss: {loss}')"
   ]
  },
  {
   "cell_type": "markdown",
   "metadata": {
    "id": "TLDtIkPdLfHg"
   },
   "source": [
    "## ID3"
   ]
  },
  {
   "cell_type": "code",
   "execution_count": 4041,
   "metadata": {
    "id": "gZ6_x1LKLfHh"
   },
   "outputs": [
    {
     "name": "stdout",
     "output_type": "stream",
     "text": [
      "Log Loss: 0.5745025705912855\n"
     ]
    }
   ],
   "source": [
    "# Type your code here\n",
    "id3 = DecisionTreeClassifier(max_depth=1, criterion='entropy')\n",
    "id3.fit(X_train_prepared, y_train)\n",
    "\n",
    "# Predict\n",
    "y_pred = id3.predict_proba(X_test_prepared)\n",
    "\n",
    "loss = log_loss(y_val, y_pred)\n",
    "print(f'Log Loss: {loss}')"
   ]
  },
  {
   "cell_type": "code",
   "execution_count": 4042,
   "metadata": {},
   "outputs": [
    {
     "data": {
      "image/png": "[encoded data removed]",
      "text/plain": [
       "<Figure size 640x480 with 1 Axes>"
      ]
     },
     "metadata": {},
     "output_type": "display_data"
    }
   ],
   "source": [
    "feature_importances_plot(id3)"
   ]
  },
  {
   "cell_type": "markdown",
   "metadata": {
    "id": "iP4TQDeRUUE0"
   },
   "source": [
    "## SVM"
   ]
  },
  {
   "cell_type": "code",
   "execution_count": 4043,
   "metadata": {
    "id": "bIjExgsPUYmM"
   },
   "outputs": [],
   "source": [
    "# # Type your code here\n",
    "# svm = SVC(probability=True)\n",
    "# svm.fit(X_train_prepared, y_train)\n",
    "\n",
    "# # Predict\n",
    "# y_pred = svm.predict_proba(X_test_prepared)\n",
    "\n",
    "# loss = log_loss(y_val, y_pred)\n",
    "# print(f'Log Loss: {loss}')"
   ]
  },
  {
   "cell_type": "markdown",
   "metadata": {
    "id": "pg8aMBvoUWM-"
   },
   "source": [
    "## Logistic Regression"
   ]
  },
  {
   "cell_type": "code",
   "execution_count": 4044,
   "metadata": {
    "id": "0E70wbTkUV58"
   },
   "outputs": [
    {
     "name": "stdout",
     "output_type": "stream",
     "text": [
      "Log Loss: 0.42963587114439317\n"
     ]
    },
    {
     "name": "stderr",
     "output_type": "stream",
     "text": [
      "c:\\Users\\abdul\\AppData\\Local\\Programs\\Python\\Python310\\lib\\site-packages\\sklearn\\utils\\validation.py:1310: DataConversionWarning: A column-vector y was passed when a 1d array was expected. Please change the shape of y to (n_samples, ), for example using ravel().\n",
      "  y = column_or_1d(y, warn=True)\n"
     ]
    }
   ],
   "source": [
    "# Type your code here\n",
    "logisticregression = LogisticRegression()\n",
    "logisticregression.fit(X_train_prepared, y_train)\n",
    "\n",
    "# Predict\n",
    "y_pred = logisticregression.predict_proba(X_test_prepared)\n",
    "\n",
    "loss = log_loss(y_val, y_pred)\n",
    "print(f'Log Loss: {loss}')"
   ]
  },
  {
   "cell_type": "markdown",
   "metadata": {},
   "source": [
    "## CatBoost"
   ]
  },
  {
   "cell_type": "code",
   "execution_count": 4045,
   "metadata": {},
   "outputs": [
    {
     "name": "stdout",
     "output_type": "stream",
     "text": [
      "0:\tlearn: 0.8455754\ttotal: 1.15ms\tremaining: 1.15s\n",
      "200:\tlearn: 0.3975844\ttotal: 245ms\tremaining: 974ms\n",
      "400:\tlearn: 0.3908961\ttotal: 621ms\tremaining: 928ms\n",
      "600:\tlearn: 0.3861869\ttotal: 905ms\tremaining: 601ms\n",
      "800:\tlearn: 0.3829080\ttotal: 1.16s\tremaining: 287ms\n",
      "999:\tlearn: 0.3798006\ttotal: 1.45s\tremaining: 0us\n",
      "Log Loss: 0.4040665970147999\n"
     ]
    },
    {
     "data": {
      "image/png": "[encoded data removed]",
      "text/plain": [
       "<Figure size 640x480 with 1 Axes>"
      ]
     },
     "metadata": {},
     "output_type": "display_data"
    }
   ],
   "source": [
    "catboost = CatBoostClassifier(iterations=1000, learning_rate=0.3, depth=1, verbose=200)\n",
    "\n",
    "catboost.fit(X_train_prepared, y_train)\n",
    "\n",
    "# Make predictions\n",
    "y_pred = catboost.predict_proba(X_test_prepared)\n",
    "\n",
    "loss = log_loss(y_val, y_pred)\n",
    "print(f'Log Loss: {loss}')\n",
    "feature_importances_plot(catboost)"
   ]
  },
  {
   "cell_type": "markdown",
   "metadata": {},
   "source": [
    "## XGBoost"
   ]
  },
  {
   "cell_type": "code",
   "execution_count": 4046,
   "metadata": {},
   "outputs": [
    {
     "name": "stdout",
     "output_type": "stream",
     "text": [
      "Log Loss: 0.40153765871709146\n"
     ]
    }
   ],
   "source": [
    "xgb = XGBClassifier(n_estimators=200 , learning_rate=0.2, max_depth=1)\n",
    "\n",
    "xgb.fit(X_train_prepared, y_train)\n",
    "\n",
    "# Make predictions\n",
    "y_pred = xgb.predict_proba(X_test_prepared)\n",
    "\n",
    "loss = log_loss(y_val, y_pred)\n",
    "print(f'Log Loss: {loss}')"
   ]
  },
  {
   "cell_type": "code",
   "execution_count": 4047,
   "metadata": {},
   "outputs": [
    {
     "data": {
      "image/png": "[encoded data removed]",
      "text/plain": [
       "<Figure size 640x480 with 1 Axes>"
      ]
     },
     "metadata": {},
     "output_type": "display_data"
    }
   ],
   "source": [
    "feature_importances_plot(xgb)"
   ]
  },
  {
   "cell_type": "markdown",
   "metadata": {
    "id": "LoH2u6fOLfHh"
   },
   "source": [
    "## Notes for improvements\n",
    "\n",
    "- **Visualize the model evaluation result**\n",
    "\n",
    "This will help you to understand the details more clearly about your model's performance. From the visualization, you can see clearly if your model is leaning towards a class than the others. (Hint: confusion matrix, ROC-AUC curve, etc.)\n",
    "\n",
    "- **Explore the hyperparameters of your models**\n",
    "\n",
    "Each models have their own hyperparameters. And each of the hyperparameter have different effects on the model behaviour. You can optimize the model performance by finding the good set of hyperparameters through a process called **hyperparameter tuning**. (Hint: Grid search, random search, bayesian optimization)\n",
    "\n",
    "- **Cross-validation**\n",
    "\n",
    "Cross-validation is a critical technique in machine learning and data science for evaluating and validating the performance of predictive models. It provides a more **robust** and **reliable** evaluation method compared to a hold-out (single train-test set) validation. Though, it requires more time and computing power because of how cross-validation works. (Hint: k-fold cross-validation, stratified k-fold cross-validation, etc.)\n",
    "\n",
    "- **Ensemble methods**\n",
    "\n",
    "Ensemble methods are powerful machine learning techniques that combine the predictions of multiple models (often referred to as base learners or weak learners) to create a stronger, more accurate predictive model. The idea behind ensemble methods is that by aggregating the opinions of multiple models, you can reduce the impact of individual model errors and improve overall prediction performance. (Hint: bagging, boosting, stacking, voting)\n",
    "\n",
    "- **Model interpretation**\n",
    "\n",
    "Model interpretation is the process of understanding and explaining the inner workings of a machine learning model, particularly its decision-making process. Interpretation helps data scientists, stakeholders, and end-users gain insights into why a model makes certain predictions or classifications. Model interpretation is crucial for building trust in machine learning systems, identifying biases, and extracting actionable information from models. (Hint: Feature importance, PDP, SHAP Values, etc)\n",
    "\n",
    "- **Explore other models**\n",
    "\n",
    "There are a lot of ML models that you can use in this usecase. Try to explore and use them to solve this problem."
   ]
  },
  {
   "cell_type": "markdown",
   "metadata": {
    "id": "Li4l53DjLfHh"
   },
   "source": [
    "## Submission\n",
    "To predict the test set target feature and submit the results to the kaggle competition platform, do the following:\n",
    "1. Create a new pipeline instance identical to the first in Data Preprocessing\n",
    "2. With the pipeline, apply `fit_transform` to the original training set before splitting, then only apply `transform` to the test set.\n",
    "3. Retrain the model on the preprocessed training set\n",
    "4. Predict the test set\n",
    "5. Make sure the submission contains the `id`, `Status_C`, `Status_CL`, `Status_D` column."
   ]
  },
  {
   "cell_type": "code",
   "execution_count": 4048,
   "metadata": {
    "id": "LeqnfWc-LfHi"
   },
   "outputs": [
    {
     "name": "stdout",
     "output_type": "stream",
     "text": [
      "target encode\n"
     ]
    },
    {
     "name": "stderr",
     "output_type": "stream",
     "text": [
      "C:\\Users\\abdul\\AppData\\Local\\Temp\\ipykernel_24792\\3426821207.py:23: FutureWarning: Downcasting object dtype arrays on .fillna, .ffill, .bfill is deprecated and will change in a future version. Call result.infer_objects(copy=False) instead. To opt-in to the future behavior, set `pd.set_option('future.no_silent_downcasting', True)`\n",
      "  X_encoded[col] = X_encoded[col].map(mapping).fillna(0)\n",
      "C:\\Users\\abdul\\AppData\\Local\\Temp\\ipykernel_24792\\3426821207.py:23: FutureWarning: Downcasting object dtype arrays on .fillna, .ffill, .bfill is deprecated and will change in a future version. Call result.infer_objects(copy=False) instead. To opt-in to the future behavior, set `pd.set_option('future.no_silent_downcasting', True)`\n",
      "  X_encoded[col] = X_encoded[col].map(mapping).fillna(0)\n",
      "C:\\Users\\abdul\\AppData\\Local\\Temp\\ipykernel_24792\\3426821207.py:23: FutureWarning: Downcasting object dtype arrays on .fillna, .ffill, .bfill is deprecated and will change in a future version. Call result.infer_objects(copy=False) instead. To opt-in to the future behavior, set `pd.set_option('future.no_silent_downcasting', True)`\n",
      "  X_encoded[col] = X_encoded[col].map(mapping).fillna(0)\n",
      "C:\\Users\\abdul\\AppData\\Local\\Temp\\ipykernel_24792\\3426821207.py:23: FutureWarning: Downcasting object dtype arrays on .fillna, .ffill, .bfill is deprecated and will change in a future version. Call result.infer_objects(copy=False) instead. To opt-in to the future behavior, set `pd.set_option('future.no_silent_downcasting', True)`\n",
      "  X_encoded[col] = X_encoded[col].map(mapping).fillna(0)\n",
      "C:\\Users\\abdul\\AppData\\Local\\Temp\\ipykernel_24792\\3426821207.py:23: FutureWarning: Downcasting object dtype arrays on .fillna, .ffill, .bfill is deprecated and will change in a future version. Call result.infer_objects(copy=False) instead. To opt-in to the future behavior, set `pd.set_option('future.no_silent_downcasting', True)`\n",
      "  X_encoded[col] = X_encoded[col].map(mapping).fillna(0)\n",
      "C:\\Users\\abdul\\AppData\\Local\\Temp\\ipykernel_24792\\3426821207.py:23: FutureWarning: Downcasting object dtype arrays on .fillna, .ffill, .bfill is deprecated and will change in a future version. Call result.infer_objects(copy=False) instead. To opt-in to the future behavior, set `pd.set_option('future.no_silent_downcasting', True)`\n",
      "  X_encoded[col] = X_encoded[col].map(mapping).fillna(0)\n"
     ]
    },
    {
     "data": {
      "text/html": [
       "<div>\n",
       "<style scoped>\n",
       "    .dataframe tbody tr th:only-of-type {\n",
       "        vertical-align: middle;\n",
       "    }\n",
       "\n",
       "    .dataframe tbody tr th {\n",
       "        vertical-align: top;\n",
       "    }\n",
       "\n",
       "    .dataframe thead th {\n",
       "        text-align: right;\n",
       "    }\n",
       "</style>\n",
       "<table border=\"1\" class=\"dataframe\">\n",
       "  <thead>\n",
       "    <tr style=\"text-align: right;\">\n",
       "      <th></th>\n",
       "      <th>id</th>\n",
       "      <th>Status_C</th>\n",
       "      <th>Status_CL</th>\n",
       "      <th>Status_D</th>\n",
       "    </tr>\n",
       "  </thead>\n",
       "  <tbody>\n",
       "    <tr>\n",
       "      <th>0</th>\n",
       "      <td>15000</td>\n",
       "      <td>0.151928</td>\n",
       "      <td>0.016379</td>\n",
       "      <td>0.831692</td>\n",
       "    </tr>\n",
       "    <tr>\n",
       "      <th>1</th>\n",
       "      <td>15001</td>\n",
       "      <td>0.749697</td>\n",
       "      <td>0.003102</td>\n",
       "      <td>0.247201</td>\n",
       "    </tr>\n",
       "    <tr>\n",
       "      <th>2</th>\n",
       "      <td>15002</td>\n",
       "      <td>0.906318</td>\n",
       "      <td>0.002883</td>\n",
       "      <td>0.090799</td>\n",
       "    </tr>\n",
       "    <tr>\n",
       "      <th>3</th>\n",
       "      <td>15003</td>\n",
       "      <td>0.910912</td>\n",
       "      <td>0.016452</td>\n",
       "      <td>0.072635</td>\n",
       "    </tr>\n",
       "    <tr>\n",
       "      <th>4</th>\n",
       "      <td>15004</td>\n",
       "      <td>0.815655</td>\n",
       "      <td>0.011656</td>\n",
       "      <td>0.172689</td>\n",
       "    </tr>\n",
       "    <tr>\n",
       "      <th>...</th>\n",
       "      <td>...</td>\n",
       "      <td>...</td>\n",
       "      <td>...</td>\n",
       "      <td>...</td>\n",
       "    </tr>\n",
       "    <tr>\n",
       "      <th>9995</th>\n",
       "      <td>24995</td>\n",
       "      <td>0.928042</td>\n",
       "      <td>0.017812</td>\n",
       "      <td>0.054146</td>\n",
       "    </tr>\n",
       "    <tr>\n",
       "      <th>9996</th>\n",
       "      <td>24996</td>\n",
       "      <td>0.486725</td>\n",
       "      <td>0.012370</td>\n",
       "      <td>0.500905</td>\n",
       "    </tr>\n",
       "    <tr>\n",
       "      <th>9997</th>\n",
       "      <td>24997</td>\n",
       "      <td>0.075780</td>\n",
       "      <td>0.004662</td>\n",
       "      <td>0.919558</td>\n",
       "    </tr>\n",
       "    <tr>\n",
       "      <th>9998</th>\n",
       "      <td>24998</td>\n",
       "      <td>0.016843</td>\n",
       "      <td>0.002047</td>\n",
       "      <td>0.981110</td>\n",
       "    </tr>\n",
       "    <tr>\n",
       "      <th>9999</th>\n",
       "      <td>24999</td>\n",
       "      <td>0.830332</td>\n",
       "      <td>0.011521</td>\n",
       "      <td>0.158147</td>\n",
       "    </tr>\n",
       "  </tbody>\n",
       "</table>\n",
       "<p>10000 rows × 4 columns</p>\n",
       "</div>"
      ],
      "text/plain": [
       "         id  Status_C  Status_CL  Status_D\n",
       "0     15000  0.151928   0.016379  0.831692\n",
       "1     15001  0.749697   0.003102  0.247201\n",
       "2     15002  0.906318   0.002883  0.090799\n",
       "3     15003  0.910912   0.016452  0.072635\n",
       "4     15004  0.815655   0.011656  0.172689\n",
       "...     ...       ...        ...       ...\n",
       "9995  24995  0.928042   0.017812  0.054146\n",
       "9996  24996  0.486725   0.012370  0.500905\n",
       "9997  24997  0.075780   0.004662  0.919558\n",
       "9998  24998  0.016843   0.002047  0.981110\n",
       "9999  24999  0.830332   0.011521  0.158147\n",
       "\n",
       "[10000 rows x 4 columns]"
      ]
     },
     "execution_count": 4048,
     "metadata": {},
     "output_type": "execute_result"
    }
   ],
   "source": [
    "X_test_prepared = final_pipeline.transform(df_test)\n",
    "\n",
    "xgb.fit(X_train_prepared, y_train)\n",
    "\n",
    "# Predict\n",
    "y_pred = logisticregression.predict_proba(X_test_prepared)\n",
    "df_submission = pd.DataFrame(y_pred, columns=['Status_C', 'Status_CL', 'Status_D'])\n",
    "df_submission['id'] = df_test['id']\n",
    "df_submission = df_submission[['id', 'Status_C', 'Status_CL', 'Status_D']]\n",
    "df_submission"
   ]
  },
  {
   "cell_type": "code",
   "execution_count": 4049,
   "metadata": {},
   "outputs": [],
   "source": [
    "df_submission.to_csv('submission.csv', index=False)"
   ]
  },
  {
   "cell_type": "markdown",
   "metadata": {
    "id": "R-jXvKOpLfHi"
   },
   "source": [
    "# 6. Error Analysis\n",
    "\n",
    "Based on all the process you have done until the modeling and evaluation step, write an analysis to support each steps you have taken to solve this problem. Write the analysis using the markdown block. Some questions that may help you in writing the analysis:\n",
    "\n",
    "- Does my model perform better in predicting one class than the other? If so, why is that?\n",
    "- To each models I have tried, which performs the best and what could be the reason?\n",
    "- Is it better for me to impute or drop the missing data? Why?\n",
    "- Does feature scaling help improve my model performance?\n",
    "- etc..."
   ]
  },
  {
   "cell_type": "markdown",
   "metadata": {},
   "source": []
  },
  {
   "cell_type": "markdown",
   "metadata": {
    "id": "tWL3nEAELfHj"
   },
   "source": [
    "`Provide your analysis here`"
   ]
  }
 ],
 "metadata": {
  "colab": {
   "provenance": []
  },
  "kernelspec": {
   "display_name": "Python 3",
   "language": "python",
   "name": "python3"
  },
  "language_info": {
   "codemirror_mode": {
    "name": "ipython",
    "version": 3
   },
   "file_extension": ".py",
   "mimetype": "text/x-python",
   "name": "python",
   "nbconvert_exporter": "python",
   "pygments_lexer": "ipython3",
   "version": "3.10.7"
  }
 },
 "nbformat": 4,
 "nbformat_minor": 0
}
